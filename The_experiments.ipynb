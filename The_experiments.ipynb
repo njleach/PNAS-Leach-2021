{
 "cells": [
  {
   "cell_type": "markdown",
   "metadata": {},
   "source": [
    "### Import dependencies"
   ]
  },
  {
   "cell_type": "code",
   "execution_count": 2,
   "metadata": {
    "jupyter": {
     "source_hidden": true
    }
   },
   "outputs": [],
   "source": [
    "import numpy as np\n",
    "import scipy as sp\n",
    "import netCDF4 as nC4\n",
    "import lmoments3 as lm3\n",
    "# import lmoments3.distr\n",
    "# import lmoments3.stats\n",
    "import scipy.signal\n",
    "import matplotlib\n",
    "import matplotlib.pyplot as plt\n",
    "import seaborn as sn\n",
    "import eofs\n",
    "from cdo import Cdo\n",
    "cdo = Cdo(tempdir='/network/aopp/chaos/pred/leach/.cdo_temp_files1')\n",
    "# uncomment the below if you want to clean up the temporary directory\n",
    "cdo.cleanTempDir()\n",
    "import cartopy\n",
    "from cartopy import crs\n",
    "from cartopy.mpl.ticker import LongitudeFormatter, LatitudeFormatter\n",
    "import cartopy.feature as cfeature\n",
    "import xarray as xr\n",
    "import xskillscore as xs\n",
    "import os\n",
    "import pandas as pd\n",
    "from mpl_toolkits.axes_grid1.inset_locator import inset_axes\n",
    "import sys\n",
    "import glob\n",
    "import datetime\n",
    "import time\n",
    "import multiprocessing\n",
    "import tqdm\n",
    "import cmocean\n",
    "from shapely.geometry.polygon import LinearRing\n",
    "\n",
    "import pyarrow as pa\n",
    "import pyarrow.parquet as pq\n",
    "\n",
    "sys.path.append('/home/leach/Downloads/')\n",
    "import ScientificColourMaps6 as SCM6\n",
    "\n",
    "from IPython.display import display, clear_output\n",
    "\n",
    "# import my own statistics repository\n",
    "from mystatsfunctions import LMoments,OLSE\n",
    "\n",
    "## Matplotlib rcparams setup:\n",
    "matplotlib.rcParams['font.family']='Helvetica'\n",
    "matplotlib.rcParams['font.size']=11\n",
    "# matplotlib.rcParams['font.weight']=400\n",
    "matplotlib.rcParams['image.cmap']='cmo.ice'\n",
    "matplotlib.rcParams['axes.prop_cycle']=matplotlib.cycler('color',['011936','FF7D00','225560','BFACAA','D72638','788C9B','A33F00','7CAAB0','685655','EB767C'])\n",
    "matplotlib.rcParams['axes.formatter.limits']=-3,3\n",
    "# matplotlib.rcParams['axes.labelweight']=300\n",
    "matplotlib.rcParams['legend.frameon']=False\n",
    "matplotlib.rcParams['boxplot.whiskers']=(5,95)\n",
    "matplotlib.rcParams['boxplot.showfliers']=False\n",
    "matplotlib.rcParams['boxplot.showfliers']=False\n",
    "matplotlib.rcParams['boxplot.medianprops.color']='black'\n",
    "matplotlib.rcParams['errorbar.capsize']=5\n",
    "matplotlib.rcParams['hist.bins']='auto'\n",
    "plt.rcParams['pdf.fonttype'] = 42\n",
    "\n",
    "%matplotlib inline"
   ]
  },
  {
   "cell_type": "code",
   "execution_count": 3,
   "metadata": {
    "jupyter": {
     "source_hidden": true
    }
   },
   "outputs": [],
   "source": [
    "## plotting functions:\n",
    "\n",
    "def add_lat_lon_ticks(ax,lat=True,lon=True, lon_ext=[-180,181], lat_ext=[-90,91]):\n",
    "    if lon:\n",
    "        ax.set_xticks(np.arange(*lon_ext,30), crs=crs.PlateCarree())\n",
    "        lon_formatter = LongitudeFormatter(zero_direction_label=True)\n",
    "        ax.xaxis.set_major_formatter(lon_formatter)\n",
    "    if lat:\n",
    "        ax.set_yticks(np.arange(*lat_ext,10), crs=crs.PlateCarree())\n",
    "        lat_formatter = LatitudeFormatter()\n",
    "        ax.yaxis.set_major_formatter(lat_formatter)"
   ]
  },
  {
   "cell_type": "markdown",
   "metadata": {},
   "source": [
    "## Import Data"
   ]
  },
  {
   "cell_type": "markdown",
   "metadata": {},
   "source": [
    "#### Useful definitions\n",
    "Defines the PRUDENCE region extents and imports the a land-sea mask."
   ]
  },
  {
   "cell_type": "code",
   "execution_count": 4,
   "metadata": {},
   "outputs": [
    {
     "name": "stdout",
     "output_type": "stream",
     "text": [
      "{'BI': '-10,2,50,59', 'IP': '-10,3,36,44', 'FR': '-5,5,44,50', 'CE': '2,16,48,55', 'SC': '5,30,55,70', 'AL': '5,15,44,48', 'MD': '3,25,36,44', 'EE': '16,30,44,55'}\n"
     ]
    }
   ],
   "source": [
    "## define EU domain:\n",
    "EU_rg = \"-27,45,33,73.5\"\n",
    "\n",
    "## define PRUDENCE region extents:\n",
    "PD_rg = dict(zip(['BI','IP','FR','CE','SC','AL','MD','EE'],['-10,2,50,59','-10,3,36,44','-5,5,44,50','2,16,48,55','5,30,55,70','5,15,44,48','3,25,36,44','16,30,44,55']))\n",
    "print(PD_rg)\n",
    "\n",
    "## get land-sea mask & inversion:\n",
    "lsm = cdo.setctomiss('0',input= '-gtc,0.5 ../../ERA5/ERA5_land_sea_mask.nc')\n",
    "lsm_inv = cdo.setctomiss('0',input= '-ltc,0.5 ../../ERA5/ERA5_land_sea_mask.nc')"
   ]
  },
  {
   "cell_type": "code",
   "execution_count": 5,
   "metadata": {},
   "outputs": [],
   "source": [
    "experiment_index = pd.DataFrame(index=['2019-02-17','2019-02-23'],columns=['PI_co2','INCR_co2'])\n",
    "experiment_index.loc['2019-02-17'] = ['b2hi','b2hk']\n",
    "experiment_index.loc['2019-02-23'] = ['b2ht','b2hu']\n",
    "experiment_index.loc['2019-02-11'] = ['b2i2','b2i3']\n",
    "experiment_index.loc['2019-02-04'] = ['b2jn','b2jo']"
   ]
  },
  {
   "cell_type": "markdown",
   "metadata": {},
   "source": [
    "### Global t2m\n",
    "Retrieve global 2m temperature in operational / reduced CO$_2$ / increased CO$_2$ forecasts."
   ]
  },
  {
   "cell_type": "code",
   "execution_count": 6,
   "metadata": {
    "collapsed": true,
    "jupyter": {
     "outputs_hidden": true
    }
   },
   "outputs": [
    {
     "name": "stdout",
     "output_type": "stream",
     "text": [
      "getting 2019-02-17\n"
     ]
    },
    {
     "name": "stderr",
     "output_type": "stream",
     "text": [
      "/network/aopp/chaos/pred/leach/software/miniconda3/lib/python3.7/site-packages/xarray/core/indexing.py:1369: PerformanceWarning: Slicing is producing a large chunk. To accept the large\n",
      "chunk and silence this warning, set the option\n",
      "    >>> with dask.config.set(**{'array.slicing.split_large_chunks': False}):\n",
      "    ...     array[indexer]\n",
      "\n",
      "To avoid creating the large chunks, set the option\n",
      "    >>> with dask.config.set(**{'array.slicing.split_large_chunks': True}):\n",
      "    ...     array[indexer]\n",
      "  return self.array[key]\n",
      "/network/aopp/chaos/pred/leach/software/miniconda3/lib/python3.7/site-packages/xarray/core/indexing.py:1369: PerformanceWarning: Slicing is producing a large chunk. To accept the large\n",
      "chunk and silence this warning, set the option\n",
      "    >>> with dask.config.set(**{'array.slicing.split_large_chunks': False}):\n",
      "    ...     array[indexer]\n",
      "\n",
      "To avoid creating the large chunks, set the option\n",
      "    >>> with dask.config.set(**{'array.slicing.split_large_chunks': True}):\n",
      "    ...     array[indexer]\n",
      "  return self.array[key]\n"
     ]
    },
    {
     "name": "stdout",
     "output_type": "stream",
     "text": [
      "getting 2019-02-23\n"
     ]
    },
    {
     "name": "stderr",
     "output_type": "stream",
     "text": [
      "/network/aopp/chaos/pred/leach/software/miniconda3/lib/python3.7/site-packages/xarray/core/indexing.py:1369: PerformanceWarning: Slicing is producing a large chunk. To accept the large\n",
      "chunk and silence this warning, set the option\n",
      "    >>> with dask.config.set(**{'array.slicing.split_large_chunks': False}):\n",
      "    ...     array[indexer]\n",
      "\n",
      "To avoid creating the large chunks, set the option\n",
      "    >>> with dask.config.set(**{'array.slicing.split_large_chunks': True}):\n",
      "    ...     array[indexer]\n",
      "  return self.array[key]\n",
      "/network/aopp/chaos/pred/leach/software/miniconda3/lib/python3.7/site-packages/xarray/core/indexing.py:1369: PerformanceWarning: Slicing is producing a large chunk. To accept the large\n",
      "chunk and silence this warning, set the option\n",
      "    >>> with dask.config.set(**{'array.slicing.split_large_chunks': False}):\n",
      "    ...     array[indexer]\n",
      "\n",
      "To avoid creating the large chunks, set the option\n",
      "    >>> with dask.config.set(**{'array.slicing.split_large_chunks': True}):\n",
      "    ...     array[indexer]\n",
      "  return self.array[key]\n"
     ]
    },
    {
     "name": "stdout",
     "output_type": "stream",
     "text": [
      "getting 2019-02-11\n"
     ]
    },
    {
     "name": "stderr",
     "output_type": "stream",
     "text": [
      "/network/aopp/chaos/pred/leach/software/miniconda3/lib/python3.7/site-packages/xarray/core/indexing.py:1369: PerformanceWarning: Slicing is producing a large chunk. To accept the large\n",
      "chunk and silence this warning, set the option\n",
      "    >>> with dask.config.set(**{'array.slicing.split_large_chunks': False}):\n",
      "    ...     array[indexer]\n",
      "\n",
      "To avoid creating the large chunks, set the option\n",
      "    >>> with dask.config.set(**{'array.slicing.split_large_chunks': True}):\n",
      "    ...     array[indexer]\n",
      "  return self.array[key]\n",
      "/network/aopp/chaos/pred/leach/software/miniconda3/lib/python3.7/site-packages/xarray/core/indexing.py:1369: PerformanceWarning: Slicing is producing a large chunk. To accept the large\n",
      "chunk and silence this warning, set the option\n",
      "    >>> with dask.config.set(**{'array.slicing.split_large_chunks': False}):\n",
      "    ...     array[indexer]\n",
      "\n",
      "To avoid creating the large chunks, set the option\n",
      "    >>> with dask.config.set(**{'array.slicing.split_large_chunks': True}):\n",
      "    ...     array[indexer]\n",
      "  return self.array[key]\n"
     ]
    },
    {
     "name": "stdout",
     "output_type": "stream",
     "text": [
      "getting 2019-02-04\n"
     ]
    },
    {
     "name": "stderr",
     "output_type": "stream",
     "text": [
      "/network/aopp/chaos/pred/leach/software/miniconda3/lib/python3.7/site-packages/xarray/core/indexing.py:1369: PerformanceWarning: Slicing is producing a large chunk. To accept the large\n",
      "chunk and silence this warning, set the option\n",
      "    >>> with dask.config.set(**{'array.slicing.split_large_chunks': False}):\n",
      "    ...     array[indexer]\n",
      "\n",
      "To avoid creating the large chunks, set the option\n",
      "    >>> with dask.config.set(**{'array.slicing.split_large_chunks': True}):\n",
      "    ...     array[indexer]\n",
      "  return self.array[key]\n",
      "/network/aopp/chaos/pred/leach/software/miniconda3/lib/python3.7/site-packages/xarray/core/indexing.py:1369: PerformanceWarning: Slicing is producing a large chunk. To accept the large\n",
      "chunk and silence this warning, set the option\n",
      "    >>> with dask.config.set(**{'array.slicing.split_large_chunks': False}):\n",
      "    ...     array[indexer]\n",
      "\n",
      "To avoid creating the large chunks, set the option\n",
      "    >>> with dask.config.set(**{'array.slicing.split_large_chunks': True}):\n",
      "    ...     array[indexer]\n",
      "  return self.array[key]\n"
     ]
    }
   ],
   "source": [
    "## global t2m equilibration timescale\n",
    "\n",
    "ENS_t2m = {}\n",
    "\n",
    "for fcdate in experiment_index.index:\n",
    "    print('getting '+fcdate)\n",
    "#     PI_glob[fcdate] = xr.open_dataset(cdo.merge(input='-selname,t2m ../../IFS_exp/GLOBAL/sfc/pert/'+experiment_index.loc[fcdate,'PI_co2']+'_t2m.nc -setlevel,51 -selname,t2m ../../IFS_exp/GLOBAL/sfc/ctrl/'+experiment_index.loc[fcdate,'PI_co2']+'_t2m.nc'),chunks={'time':10}).t2m\n",
    "#     INCR_glob[fcdate] = xr.open_dataset(cdo.merge(input='-selname,t2m ../../IFS_exp/GLOBAL/sfc/pert/'+experiment_index.loc[fcdate,'INCR_co2']+'_t2m.nc -setlevel,51 -selname,t2m ../../IFS_exp/GLOBAL/sfc/ctrl/'+experiment_index.loc[fcdate,'INCR_co2']+'_t2m.nc'),chunks={'time':10}).t2m\n",
    "    \n",
    "    pf = xr.open_dataset(cdo.daymean(input='../../IFS_exp/GLOBAL/sfc/pert/'+experiment_index.loc[fcdate,'PI_co2']+'_t2m.nc'),chunks={'time':1,'number':10})\n",
    "    cf = xr.open_dataset(cdo.daymean(input='../../IFS_exp/GLOBAL/sfc/ctrl/'+experiment_index.loc[fcdate,'PI_co2']+'_t2m.nc'),chunks={'time':1}).expand_dims({'number':[51]})\n",
    "    PI = xr.concat([pf,cf],dim='number').assign_coords(longitude=(((pf.longitude + 180) % 360) - 180)).sortby('longitude')\n",
    "    pf.close()\n",
    "    cf.close()\n",
    "    \n",
    "    pf = xr.open_dataset(cdo.daymean(input='../../IFS_exp/GLOBAL/sfc/pert/'+experiment_index.loc[fcdate,'INCR_co2']+'_t2m.nc'),chunks={'time':1,'number':10})\n",
    "    cf = xr.open_dataset(cdo.daymean(input='../../IFS_exp/GLOBAL/sfc/ctrl/'+experiment_index.loc[fcdate,'INCR_co2']+'_t2m.nc'),chunks={'time':1}).expand_dims({'number':[51]})\n",
    "    INC = xr.concat([pf,cf],dim='number').assign_coords(longitude=(((pf.longitude + 180) % 360) - 180)).sortby('longitude')\n",
    "    pf.close()\n",
    "    cf.close()\n",
    "    \n",
    "    ENS_t2m[fcdate] = xr.concat([PI.expand_dims({'experiment':['pi-CO2']}),INC.expand_dims({'experiment':['incr-CO2']})],dim='experiment').expand_dims({'inidate':[fcdate]}).t2m"
   ]
  },
  {
   "cell_type": "markdown",
   "metadata": {},
   "source": [
    "Get land-sea masks into xarray."
   ]
  },
  {
   "cell_type": "code",
   "execution_count": 7,
   "metadata": {},
   "outputs": [],
   "source": [
    "lm_xr = ~np.isnan(xr.open_dataset(lsm).lsm)\n",
    "om_xr = np.isnan(xr.open_dataset(lsm).lsm)\n",
    "\n",
    "lm_xr = lm_xr.assign_coords(longitude=(((lm_xr.longitude + 180) % 360) - 180)).sortby('longitude')\n",
    "om_xr = om_xr.assign_coords(longitude=(((om_xr.longitude + 180) % 360) - 180)).sortby('longitude')\n",
    "\n",
    "lat_weights = np.cos(np.deg2rad(lm_xr.latitude))"
   ]
  },
  {
   "cell_type": "markdown",
   "metadata": {},
   "source": [
    "Subtract the increased CO$_2$ forecast from the reduced forecast and divide by 2 to get the signal."
   ]
  },
  {
   "cell_type": "code",
   "execution_count": 8,
   "metadata": {},
   "outputs": [
    {
     "name": "stdout",
     "output_type": "stream",
     "text": [
      "computing 2019-02-17\n",
      "computing 2019-02-23\n",
      "computing 2019-02-11\n",
      "computing 2019-02-04\n"
     ]
    }
   ],
   "source": [
    "land_co2sig = []\n",
    "ocean_co2sig = []\n",
    "\n",
    "for fcdate in experiment_index.index:\n",
    "    print('computing '+fcdate)\n",
    "    land_co2sig += [((ENS_t2m[fcdate].sel(experiment='incr-CO2') - ENS_t2m[fcdate].sel(experiment='pi-CO2')).where(lm_xr).weighted(lat_weights).mean(['latitude','longitude'])/2).stack(index=['inidate','number']).to_pandas()]\n",
    "    ocean_co2sig += [((ENS_t2m[fcdate].sel(experiment='incr-CO2') - ENS_t2m[fcdate].sel(experiment='pi-CO2')).where(om_xr).weighted(lat_weights).mean(['latitude','longitude'])/2).stack(index=['inidate','number']).to_pandas()]\n",
    "    \n",
    "land_co2sig = pd.concat(land_co2sig,axis=1)\n",
    "ocean_co2sig = pd.concat(ocean_co2sig,axis=1)\n",
    "\n",
    "## need to add in zero points"
   ]
  },
  {
   "cell_type": "markdown",
   "metadata": {},
   "source": [
    "Wrangle resulting dataframes into nice format for plotting."
   ]
  },
  {
   "cell_type": "code",
   "execution_count": 9,
   "metadata": {},
   "outputs": [],
   "source": [
    "global_t2m_lineplot_data = pd.concat([land_co2sig,ocean_co2sig],axis=1,keys=['land','ocean'])\n",
    "\n",
    "global_t2m_lineplot_data.loc[pd.to_datetime('2019-02-03 10:00:00')] = np.nan\n",
    "global_t2m_lineplot_data.loc[pd.to_datetime('2019-02-03 10:00:00'),(slice(None),'2019-02-04')] = 0\n",
    "global_t2m_lineplot_data.loc[pd.to_datetime('2019-02-10 10:00:00'),(slice(None),'2019-02-11')] = 0\n",
    "global_t2m_lineplot_data.loc[pd.to_datetime('2019-02-16 10:00:00'),(slice(None),'2019-02-17')] = 0\n",
    "global_t2m_lineplot_data.loc[pd.to_datetime('2019-02-22 10:00:00'),(slice(None),'2019-02-23')] = 0\n",
    "\n",
    "global_t2m_lineplot_data.index = global_t2m_lineplot_data.index + pd.Timedelta('+14h')\n",
    "\n",
    "global_t2m_boxplot_data = global_t2m_lineplot_data.sort_index().loc[slice('2019-02-25','2019-02-27')].mean()"
   ]
  },
  {
   "cell_type": "markdown",
   "metadata": {},
   "source": [
    "Print out some key values for the text."
   ]
  },
  {
   "cell_type": "code",
   "execution_count": 80,
   "metadata": {},
   "outputs": [
    {
     "name": "stdout",
     "output_type": "stream",
     "text": [
      "best-estimate change in mean land temperature changes (median, 5%, 95%):\n",
      " 0.2231527715921402 0.19632500410079956 0.2498052567243576\n"
     ]
    }
   ],
   "source": [
    "## global mean land temperature changes for 2019-02-11 forecast\n",
    "\n",
    "print('best-estimate change in mean land temperature changes (median, 5%, 95%):\\n',*np.quantile(np.median(np.random.choice(global_t2m_boxplot_data.land.loc['2019-02-11'].values,51*10000).reshape(51,-1),axis=0),[0.5,0.05,0.95]))"
   ]
  },
  {
   "cell_type": "code",
   "execution_count": 69,
   "metadata": {},
   "outputs": [
    {
     "name": "stderr",
     "output_type": "stream",
     "text": [
      "/network/aopp/chaos/pred/leach/software/miniconda3/lib/python3.7/site-packages/xarray/core/indexing.py:1369: PerformanceWarning: Slicing is producing a large chunk. To accept the large\n",
      "chunk and silence this warning, set the option\n",
      "    >>> with dask.config.set(**{'array.slicing.split_large_chunks': False}):\n",
      "    ...     array[indexer]\n",
      "\n",
      "To avoid creating the large chunks, set the option\n",
      "    >>> with dask.config.set(**{'array.slicing.split_large_chunks': True}):\n",
      "    ...     array[indexer]\n",
      "  return self.array[key]\n"
     ]
    }
   ],
   "source": [
    "## symmetry of global temperature response to co2\n",
    "\n",
    "land_incrco2_resp = ENS_t2m['2019-02-11'].sel(experiment='incr-CO2',time=slice('2019-02-25','2019-02-27')).where(lm_xr).weighted(lat_weights).mean(['latitude','longitude','time']).values\n",
    "land_redco2_resp = ENS_t2m['2019-02-11'].sel(experiment='pi-CO2',time=slice('2019-02-25','2019-02-27')).where(lm_xr).weighted(lat_weights).mean(['latitude','longitude','time']).values\n",
    "\n",
    "## get operational value:\n",
    "pf = xr.open_dataset(cdo.daymean(input='../../OPERATIONAL/GLOBAL/sfc/pert/2019-02-11_t2m.nc'),chunks={'time':1,'number':10})\n",
    "cf = xr.open_dataset(cdo.daymean(input='../../OPERATIONAL/GLOBAL/sfc/ctrl/2019-02-11_t2m.nc'),chunks={'time':1}).expand_dims({'number':[51]})\n",
    "OP = xr.concat([pf,cf],dim='number').assign_coords(longitude=(((pf.longitude + 180) % 360) - 180)).sortby('longitude')\n",
    "pf.close()\n",
    "cf.close()\n",
    "\n",
    "land_base_resp = OP.t2m.sel(time=slice('2019-02-25','2019-02-27')).mean('time').where(lm_xr).weighted(lat_weights).mean(['latitude','longitude']).values"
   ]
  },
  {
   "cell_type": "code",
   "execution_count": 79,
   "metadata": {},
   "outputs": [
    {
     "name": "stdout",
     "output_type": "stream",
     "text": [
      "Increased CO2 response (median, 5%, 95%):\n",
      "0.227569580078125 0.216552734375 0.337493896484375 \n",
      "\n",
      "Reduced CO2 response (median, 5%, 95%):\n",
      "-0.171295166015625 -0.289764404296875 -0.113861083984375\n"
     ]
    }
   ],
   "source": [
    "print('Increased CO2 response (median, 5%, 95%):')\n",
    "print(*np.quantile(np.median(np.random.choice((land_incrco2_resp-land_base_resp).flatten(),51*10000).reshape(51,-1),axis=0),[0.5,0.05,0.95]),'\\n')\n",
    "print('Reduced CO2 response (median, 5%, 95%):')\n",
    "print(*np.quantile(np.median(np.random.choice((land_redco2_resp-land_base_resp).flatten(),51*10000).reshape(51,-1),axis=0),[0.5,0.05,0.95]))"
   ]
  },
  {
   "cell_type": "markdown",
   "metadata": {},
   "source": [
    "### Large-scale flow over Europe"
   ]
  },
  {
   "cell_type": "markdown",
   "metadata": {},
   "source": [
    "Retrieve Z500 in operational / reduced CO$_2$ / increased CO$_2$ forecasts."
   ]
  },
  {
   "cell_type": "code",
   "execution_count": 10,
   "metadata": {},
   "outputs": [
    {
     "name": "stdout",
     "output_type": "stream",
     "text": [
      "getting 2019-02-17\n",
      "getting 2019-02-23\n",
      "getting 2019-02-11\n",
      "getting 2019-02-04\n"
     ]
    }
   ],
   "source": [
    "## Z500 divergence from ensemble mean / ensemble member\n",
    "\n",
    "ENS_z500_eu = {}\n",
    "\n",
    "for fcdate in experiment_index.index:\n",
    "    print('getting '+fcdate)\n",
    "#     PI_glob[fcdate] = xr.open_dataset(cdo.merge(input='-selname,t2m ../../IFS_exp/GLOBAL/sfc/pert/'+experiment_index.loc[fcdate,'PI_co2']+'_t2m.nc -setlevel,51 -selname,t2m ../../IFS_exp/GLOBAL/sfc/ctrl/'+experiment_index.loc[fcdate,'PI_co2']+'_t2m.nc'),chunks={'time':10}).t2m\n",
    "#     INCR_glob[fcdate] = xr.open_dataset(cdo.merge(input='-selname,t2m ../../IFS_exp/GLOBAL/sfc/pert/'+experiment_index.loc[fcdate,'INCR_co2']+'_t2m.nc -setlevel,51 -selname,t2m ../../IFS_exp/GLOBAL/sfc/ctrl/'+experiment_index.loc[fcdate,'INCR_co2']+'_t2m.nc'),chunks={'time':10}).t2m\n",
    "    \n",
    "    pf = xr.open_dataset('../../IFS_exp/Feb_2019/plev/'+experiment_index.loc[fcdate,'PI_co2']+'_plev_500_pf.nc',chunks={'time':1,'number':10}).z\n",
    "    cf = xr.open_dataset('../../IFS_exp/Feb_2019/plev/'+experiment_index.loc[fcdate,'PI_co2']+'_plev_500_cf.nc',chunks={'time':1}).expand_dims({'number':[51]}).z\n",
    "    PI = xr.concat([pf,cf],dim='number').assign_coords(longitude=(((pf.longitude + 180) % 360) - 180)).sortby('longitude').sel(time=slice(fcdate,'2019-02-27'))\n",
    "    pf.close()\n",
    "    cf.close()\n",
    "    \n",
    "    pf = xr.open_dataset('../../IFS_exp/Feb_2019/plev/'+experiment_index.loc[fcdate,'INCR_co2']+'_plev_500_pf.nc',chunks={'time':1,'number':10}).z\n",
    "    cf = xr.open_dataset('../../IFS_exp/Feb_2019/plev/'+experiment_index.loc[fcdate,'INCR_co2']+'_plev_500_cf.nc',chunks={'time':1}).expand_dims({'number':[51]}).z\n",
    "    INC = xr.concat([pf,cf],dim='number').assign_coords(longitude=(((pf.longitude + 180) % 360) - 180)).sortby('longitude').sel(time=slice(fcdate,'2019-02-27'))\n",
    "    pf.close()\n",
    "    cf.close()\n",
    "    \n",
    "    pf = xr.open_dataset('../../OPERATIONAL/EU_FEB_19/plev/'+fcdate+'.nc',chunks={'time':1,'number':10}).Z500\n",
    "    cf = xr.open_dataset('../../OPERATIONAL/EU_FEB_19/plev/ctrl/'+fcdate+'.nc',chunks={'time':1}).expand_dims({'number':[51]}).Z500\n",
    "    OP = xr.concat([pf,cf],dim='number').assign_coords(longitude=(((pf.longitude + 180) % 360) - 180)).sortby('longitude').sel(time=slice(fcdate,'2019-02-27'))\n",
    "    pf.close()\n",
    "    cf.close()\n",
    "    \n",
    "    ENS_z500_eu[fcdate] = xr.concat([PI.expand_dims({'experiment':['pi-CO2']}),INC.expand_dims({'experiment':['incr-CO2']}),OP.expand_dims({'experiment':['operational']})],dim='experiment').expand_dims({'inidate':[fcdate]})"
   ]
  },
  {
   "cell_type": "markdown",
   "metadata": {},
   "source": [
    "Create weights array."
   ]
  },
  {
   "cell_type": "code",
   "execution_count": 11,
   "metadata": {},
   "outputs": [],
   "source": [
    "EU_lat_weights = np.cos(np.deg2rad(ENS_z500_eu[fcdate].latitude))"
   ]
  },
  {
   "cell_type": "markdown",
   "metadata": {},
   "source": [
    "#### Get mean absolute Z500 distance between ensemble members.\n",
    "ie. intra-ensemble distances"
   ]
  },
  {
   "cell_type": "code",
   "execution_count": 12,
   "metadata": {
    "collapsed": true,
    "jupyter": {
     "outputs_hidden": true
    }
   },
   "outputs": [
    {
     "name": "stderr",
     "output_type": "stream",
     "text": [
      "/network/aopp/chaos/pred/leach/software/miniconda3/lib/python3.7/site-packages/xarray/core/indexing.py:1369: PerformanceWarning: Slicing is producing a large chunk. To accept the large\n",
      "chunk and silence this warning, set the option\n",
      "    >>> with dask.config.set(**{'array.slicing.split_large_chunks': False}):\n",
      "    ...     array[indexer]\n",
      "\n",
      "To avoid creating the large chunks, set the option\n",
      "    >>> with dask.config.set(**{'array.slicing.split_large_chunks': True}):\n",
      "    ...     array[indexer]\n",
      "  return self.array[key]\n",
      "/network/aopp/chaos/pred/leach/software/miniconda3/lib/python3.7/site-packages/xarray/core/indexing.py:1369: PerformanceWarning: Slicing is producing a large chunk. To accept the large\n",
      "chunk and silence this warning, set the option\n",
      "    >>> with dask.config.set(**{'array.slicing.split_large_chunks': False}):\n",
      "    ...     array[indexer]\n",
      "\n",
      "To avoid creating the large chunks, set the option\n",
      "    >>> with dask.config.set(**{'array.slicing.split_large_chunks': True}):\n",
      "    ...     array[indexer]\n",
      "  return self.array[key]\n",
      "/network/aopp/chaos/pred/leach/software/miniconda3/lib/python3.7/site-packages/xarray/core/indexing.py:1369: PerformanceWarning: Slicing is producing a large chunk. To accept the large\n",
      "chunk and silence this warning, set the option\n",
      "    >>> with dask.config.set(**{'array.slicing.split_large_chunks': False}):\n",
      "    ...     array[indexer]\n",
      "\n",
      "To avoid creating the large chunks, set the option\n",
      "    >>> with dask.config.set(**{'array.slicing.split_large_chunks': True}):\n",
      "    ...     array[indexer]\n",
      "  return self.array[key]\n",
      "/network/aopp/chaos/pred/leach/software/miniconda3/lib/python3.7/site-packages/xarray/core/indexing.py:1369: PerformanceWarning: Slicing is producing a large chunk. To accept the large\n",
      "chunk and silence this warning, set the option\n",
      "    >>> with dask.config.set(**{'array.slicing.split_large_chunks': False}):\n",
      "    ...     array[indexer]\n",
      "\n",
      "To avoid creating the large chunks, set the option\n",
      "    >>> with dask.config.set(**{'array.slicing.split_large_chunks': True}):\n",
      "    ...     array[indexer]\n",
      "  return self.array[key]\n",
      "/network/aopp/chaos/pred/leach/software/miniconda3/lib/python3.7/site-packages/xarray/core/indexing.py:1369: PerformanceWarning: Slicing is producing a large chunk. To accept the large\n",
      "chunk and silence this warning, set the option\n",
      "    >>> with dask.config.set(**{'array.slicing.split_large_chunks': False}):\n",
      "    ...     array[indexer]\n",
      "\n",
      "To avoid creating the large chunks, set the option\n",
      "    >>> with dask.config.set(**{'array.slicing.split_large_chunks': True}):\n",
      "    ...     array[indexer]\n",
      "  return self.array[key]\n",
      "/network/aopp/chaos/pred/leach/software/miniconda3/lib/python3.7/site-packages/xarray/core/indexing.py:1369: PerformanceWarning: Slicing is producing a large chunk. To accept the large\n",
      "chunk and silence this warning, set the option\n",
      "    >>> with dask.config.set(**{'array.slicing.split_large_chunks': False}):\n",
      "    ...     array[indexer]\n",
      "\n",
      "To avoid creating the large chunks, set the option\n",
      "    >>> with dask.config.set(**{'array.slicing.split_large_chunks': True}):\n",
      "    ...     array[indexer]\n",
      "  return self.array[key]\n",
      "/network/aopp/chaos/pred/leach/software/miniconda3/lib/python3.7/site-packages/xarray/core/indexing.py:1369: PerformanceWarning: Slicing is producing a large chunk. To accept the large\n",
      "chunk and silence this warning, set the option\n",
      "    >>> with dask.config.set(**{'array.slicing.split_large_chunks': False}):\n",
      "    ...     array[indexer]\n",
      "\n",
      "To avoid creating the large chunks, set the option\n",
      "    >>> with dask.config.set(**{'array.slicing.split_large_chunks': True}):\n",
      "    ...     array[indexer]\n",
      "  return self.array[key]\n",
      "/network/aopp/chaos/pred/leach/software/miniconda3/lib/python3.7/site-packages/xarray/core/indexing.py:1369: PerformanceWarning: Slicing is producing a large chunk. To accept the large\n",
      "chunk and silence this warning, set the option\n",
      "    >>> with dask.config.set(**{'array.slicing.split_large_chunks': False}):\n",
      "    ...     array[indexer]\n",
      "\n",
      "To avoid creating the large chunks, set the option\n",
      "    >>> with dask.config.set(**{'array.slicing.split_large_chunks': True}):\n",
      "    ...     array[indexer]\n",
      "  return self.array[key]\n",
      "/network/aopp/chaos/pred/leach/software/miniconda3/lib/python3.7/site-packages/xarray/core/indexing.py:1369: PerformanceWarning: Slicing is producing a large chunk. To accept the large\n",
      "chunk and silence this warning, set the option\n",
      "    >>> with dask.config.set(**{'array.slicing.split_large_chunks': False}):\n",
      "    ...     array[indexer]\n",
      "\n",
      "To avoid creating the large chunks, set the option\n",
      "    >>> with dask.config.set(**{'array.slicing.split_large_chunks': True}):\n",
      "    ...     array[indexer]\n",
      "  return self.array[key]\n",
      "/network/aopp/chaos/pred/leach/software/miniconda3/lib/python3.7/site-packages/xarray/core/indexing.py:1369: PerformanceWarning: Slicing is producing a large chunk. To accept the large\n",
      "chunk and silence this warning, set the option\n",
      "    >>> with dask.config.set(**{'array.slicing.split_large_chunks': False}):\n",
      "    ...     array[indexer]\n",
      "\n",
      "To avoid creating the large chunks, set the option\n",
      "    >>> with dask.config.set(**{'array.slicing.split_large_chunks': True}):\n",
      "    ...     array[indexer]\n",
      "  return self.array[key]\n",
      "/network/aopp/chaos/pred/leach/software/miniconda3/lib/python3.7/site-packages/xarray/core/indexing.py:1369: PerformanceWarning: Slicing is producing a large chunk. To accept the large\n",
      "chunk and silence this warning, set the option\n",
      "    >>> with dask.config.set(**{'array.slicing.split_large_chunks': False}):\n",
      "    ...     array[indexer]\n",
      "\n",
      "To avoid creating the large chunks, set the option\n",
      "    >>> with dask.config.set(**{'array.slicing.split_large_chunks': True}):\n",
      "    ...     array[indexer]\n",
      "  return self.array[key]\n",
      "/network/aopp/chaos/pred/leach/software/miniconda3/lib/python3.7/site-packages/xarray/core/indexing.py:1369: PerformanceWarning: Slicing is producing a large chunk. To accept the large\n",
      "chunk and silence this warning, set the option\n",
      "    >>> with dask.config.set(**{'array.slicing.split_large_chunks': False}):\n",
      "    ...     array[indexer]\n",
      "\n",
      "To avoid creating the large chunks, set the option\n",
      "    >>> with dask.config.set(**{'array.slicing.split_large_chunks': True}):\n",
      "    ...     array[indexer]\n",
      "  return self.array[key]\n",
      "/network/aopp/chaos/pred/leach/software/miniconda3/lib/python3.7/site-packages/xarray/core/indexing.py:1369: PerformanceWarning: Slicing is producing a large chunk. To accept the large\n",
      "chunk and silence this warning, set the option\n",
      "    >>> with dask.config.set(**{'array.slicing.split_large_chunks': False}):\n",
      "    ...     array[indexer]\n",
      "\n",
      "To avoid creating the large chunks, set the option\n",
      "    >>> with dask.config.set(**{'array.slicing.split_large_chunks': True}):\n",
      "    ...     array[indexer]\n",
      "  return self.array[key]\n",
      "/network/aopp/chaos/pred/leach/software/miniconda3/lib/python3.7/site-packages/xarray/core/indexing.py:1369: PerformanceWarning: Slicing is producing a large chunk. To accept the large\n",
      "chunk and silence this warning, set the option\n",
      "    >>> with dask.config.set(**{'array.slicing.split_large_chunks': False}):\n",
      "    ...     array[indexer]\n",
      "\n",
      "To avoid creating the large chunks, set the option\n",
      "    >>> with dask.config.set(**{'array.slicing.split_large_chunks': True}):\n",
      "    ...     array[indexer]\n",
      "  return self.array[key]\n",
      "/network/aopp/chaos/pred/leach/software/miniconda3/lib/python3.7/site-packages/xarray/core/indexing.py:1369: PerformanceWarning: Slicing is producing a large chunk. To accept the large\n",
      "chunk and silence this warning, set the option\n",
      "    >>> with dask.config.set(**{'array.slicing.split_large_chunks': False}):\n",
      "    ...     array[indexer]\n",
      "\n",
      "To avoid creating the large chunks, set the option\n",
      "    >>> with dask.config.set(**{'array.slicing.split_large_chunks': True}):\n",
      "    ...     array[indexer]\n",
      "  return self.array[key]\n",
      "/network/aopp/chaos/pred/leach/software/miniconda3/lib/python3.7/site-packages/xarray/core/indexing.py:1369: PerformanceWarning: Slicing is producing a large chunk. To accept the large\n",
      "chunk and silence this warning, set the option\n",
      "    >>> with dask.config.set(**{'array.slicing.split_large_chunks': False}):\n",
      "    ...     array[indexer]\n",
      "\n",
      "To avoid creating the large chunks, set the option\n",
      "    >>> with dask.config.set(**{'array.slicing.split_large_chunks': True}):\n",
      "    ...     array[indexer]\n",
      "  return self.array[key]\n",
      "/network/aopp/chaos/pred/leach/software/miniconda3/lib/python3.7/site-packages/xarray/core/indexing.py:1369: PerformanceWarning: Slicing is producing a large chunk. To accept the large\n",
      "chunk and silence this warning, set the option\n",
      "    >>> with dask.config.set(**{'array.slicing.split_large_chunks': False}):\n",
      "    ...     array[indexer]\n",
      "\n",
      "To avoid creating the large chunks, set the option\n",
      "    >>> with dask.config.set(**{'array.slicing.split_large_chunks': True}):\n",
      "    ...     array[indexer]\n",
      "  return self.array[key]\n",
      "/network/aopp/chaos/pred/leach/software/miniconda3/lib/python3.7/site-packages/xarray/core/indexing.py:1369: PerformanceWarning: Slicing is producing a large chunk. To accept the large\n",
      "chunk and silence this warning, set the option\n",
      "    >>> with dask.config.set(**{'array.slicing.split_large_chunks': False}):\n",
      "    ...     array[indexer]\n",
      "\n",
      "To avoid creating the large chunks, set the option\n",
      "    >>> with dask.config.set(**{'array.slicing.split_large_chunks': True}):\n",
      "    ...     array[indexer]\n",
      "  return self.array[key]\n",
      "/network/aopp/chaos/pred/leach/software/miniconda3/lib/python3.7/site-packages/xarray/core/indexing.py:1369: PerformanceWarning: Slicing is producing a large chunk. To accept the large\n",
      "chunk and silence this warning, set the option\n",
      "    >>> with dask.config.set(**{'array.slicing.split_large_chunks': False}):\n",
      "    ...     array[indexer]\n",
      "\n",
      "To avoid creating the large chunks, set the option\n",
      "    >>> with dask.config.set(**{'array.slicing.split_large_chunks': True}):\n",
      "    ...     array[indexer]\n",
      "  return self.array[key]\n",
      "/network/aopp/chaos/pred/leach/software/miniconda3/lib/python3.7/site-packages/xarray/core/indexing.py:1369: PerformanceWarning: Slicing is producing a large chunk. To accept the large\n",
      "chunk and silence this warning, set the option\n",
      "    >>> with dask.config.set(**{'array.slicing.split_large_chunks': False}):\n",
      "    ...     array[indexer]\n",
      "\n",
      "To avoid creating the large chunks, set the option\n",
      "    >>> with dask.config.set(**{'array.slicing.split_large_chunks': True}):\n",
      "    ...     array[indexer]\n",
      "  return self.array[key]\n",
      "/network/aopp/chaos/pred/leach/software/miniconda3/lib/python3.7/site-packages/xarray/core/indexing.py:1369: PerformanceWarning: Slicing is producing a large chunk. To accept the large\n",
      "chunk and silence this warning, set the option\n",
      "    >>> with dask.config.set(**{'array.slicing.split_large_chunks': False}):\n",
      "    ...     array[indexer]\n",
      "\n",
      "To avoid creating the large chunks, set the option\n",
      "    >>> with dask.config.set(**{'array.slicing.split_large_chunks': True}):\n",
      "    ...     array[indexer]\n",
      "  return self.array[key]\n",
      "/network/aopp/chaos/pred/leach/software/miniconda3/lib/python3.7/site-packages/xarray/core/indexing.py:1369: PerformanceWarning: Slicing is producing a large chunk. To accept the large\n",
      "chunk and silence this warning, set the option\n",
      "    >>> with dask.config.set(**{'array.slicing.split_large_chunks': False}):\n",
      "    ...     array[indexer]\n",
      "\n",
      "To avoid creating the large chunks, set the option\n",
      "    >>> with dask.config.set(**{'array.slicing.split_large_chunks': True}):\n",
      "    ...     array[indexer]\n",
      "  return self.array[key]\n",
      "/network/aopp/chaos/pred/leach/software/miniconda3/lib/python3.7/site-packages/xarray/core/indexing.py:1369: PerformanceWarning: Slicing is producing a large chunk. To accept the large\n",
      "chunk and silence this warning, set the option\n",
      "    >>> with dask.config.set(**{'array.slicing.split_large_chunks': False}):\n",
      "    ...     array[indexer]\n",
      "\n",
      "To avoid creating the large chunks, set the option\n",
      "    >>> with dask.config.set(**{'array.slicing.split_large_chunks': True}):\n",
      "    ...     array[indexer]\n",
      "  return self.array[key]\n",
      "/network/aopp/chaos/pred/leach/software/miniconda3/lib/python3.7/site-packages/xarray/core/indexing.py:1369: PerformanceWarning: Slicing is producing a large chunk. To accept the large\n",
      "chunk and silence this warning, set the option\n",
      "    >>> with dask.config.set(**{'array.slicing.split_large_chunks': False}):\n",
      "    ...     array[indexer]\n",
      "\n",
      "To avoid creating the large chunks, set the option\n",
      "    >>> with dask.config.set(**{'array.slicing.split_large_chunks': True}):\n",
      "    ...     array[indexer]\n",
      "  return self.array[key]\n",
      "/network/aopp/chaos/pred/leach/software/miniconda3/lib/python3.7/site-packages/xarray/core/indexing.py:1369: PerformanceWarning: Slicing is producing a large chunk. To accept the large\n",
      "chunk and silence this warning, set the option\n",
      "    >>> with dask.config.set(**{'array.slicing.split_large_chunks': False}):\n",
      "    ...     array[indexer]\n",
      "\n",
      "To avoid creating the large chunks, set the option\n",
      "    >>> with dask.config.set(**{'array.slicing.split_large_chunks': True}):\n",
      "    ...     array[indexer]\n",
      "  return self.array[key]\n",
      "/network/aopp/chaos/pred/leach/software/miniconda3/lib/python3.7/site-packages/xarray/core/indexing.py:1369: PerformanceWarning: Slicing is producing a large chunk. To accept the large\n",
      "chunk and silence this warning, set the option\n",
      "    >>> with dask.config.set(**{'array.slicing.split_large_chunks': False}):\n",
      "    ...     array[indexer]\n",
      "\n",
      "To avoid creating the large chunks, set the option\n",
      "    >>> with dask.config.set(**{'array.slicing.split_large_chunks': True}):\n",
      "    ...     array[indexer]\n",
      "  return self.array[key]\n",
      "/network/aopp/chaos/pred/leach/software/miniconda3/lib/python3.7/site-packages/xarray/core/indexing.py:1369: PerformanceWarning: Slicing is producing a large chunk. To accept the large\n",
      "chunk and silence this warning, set the option\n",
      "    >>> with dask.config.set(**{'array.slicing.split_large_chunks': False}):\n",
      "    ...     array[indexer]\n",
      "\n",
      "To avoid creating the large chunks, set the option\n",
      "    >>> with dask.config.set(**{'array.slicing.split_large_chunks': True}):\n",
      "    ...     array[indexer]\n",
      "  return self.array[key]\n",
      "/network/aopp/chaos/pred/leach/software/miniconda3/lib/python3.7/site-packages/xarray/core/indexing.py:1369: PerformanceWarning: Slicing is producing a large chunk. To accept the large\n",
      "chunk and silence this warning, set the option\n",
      "    >>> with dask.config.set(**{'array.slicing.split_large_chunks': False}):\n",
      "    ...     array[indexer]\n",
      "\n",
      "To avoid creating the large chunks, set the option\n",
      "    >>> with dask.config.set(**{'array.slicing.split_large_chunks': True}):\n",
      "    ...     array[indexer]\n",
      "  return self.array[key]\n",
      "/network/aopp/chaos/pred/leach/software/miniconda3/lib/python3.7/site-packages/xarray/core/indexing.py:1369: PerformanceWarning: Slicing is producing a large chunk. To accept the large\n",
      "chunk and silence this warning, set the option\n",
      "    >>> with dask.config.set(**{'array.slicing.split_large_chunks': False}):\n",
      "    ...     array[indexer]\n",
      "\n",
      "To avoid creating the large chunks, set the option\n",
      "    >>> with dask.config.set(**{'array.slicing.split_large_chunks': True}):\n",
      "    ...     array[indexer]\n",
      "  return self.array[key]\n",
      "/network/aopp/chaos/pred/leach/software/miniconda3/lib/python3.7/site-packages/xarray/core/indexing.py:1369: PerformanceWarning: Slicing is producing a large chunk. To accept the large\n",
      "chunk and silence this warning, set the option\n",
      "    >>> with dask.config.set(**{'array.slicing.split_large_chunks': False}):\n",
      "    ...     array[indexer]\n",
      "\n",
      "To avoid creating the large chunks, set the option\n",
      "    >>> with dask.config.set(**{'array.slicing.split_large_chunks': True}):\n",
      "    ...     array[indexer]\n",
      "  return self.array[key]\n",
      "/network/aopp/chaos/pred/leach/software/miniconda3/lib/python3.7/site-packages/xarray/core/indexing.py:1369: PerformanceWarning: Slicing is producing a large chunk. To accept the large\n",
      "chunk and silence this warning, set the option\n",
      "    >>> with dask.config.set(**{'array.slicing.split_large_chunks': False}):\n",
      "    ...     array[indexer]\n",
      "\n",
      "To avoid creating the large chunks, set the option\n",
      "    >>> with dask.config.set(**{'array.slicing.split_large_chunks': True}):\n",
      "    ...     array[indexer]\n",
      "  return self.array[key]\n",
      "/network/aopp/chaos/pred/leach/software/miniconda3/lib/python3.7/site-packages/xarray/core/indexing.py:1369: PerformanceWarning: Slicing is producing a large chunk. To accept the large\n",
      "chunk and silence this warning, set the option\n",
      "    >>> with dask.config.set(**{'array.slicing.split_large_chunks': False}):\n",
      "    ...     array[indexer]\n",
      "\n",
      "To avoid creating the large chunks, set the option\n",
      "    >>> with dask.config.set(**{'array.slicing.split_large_chunks': True}):\n",
      "    ...     array[indexer]\n",
      "  return self.array[key]\n",
      "/network/aopp/chaos/pred/leach/software/miniconda3/lib/python3.7/site-packages/xarray/core/indexing.py:1369: PerformanceWarning: Slicing is producing a large chunk. To accept the large\n",
      "chunk and silence this warning, set the option\n",
      "    >>> with dask.config.set(**{'array.slicing.split_large_chunks': False}):\n",
      "    ...     array[indexer]\n",
      "\n",
      "To avoid creating the large chunks, set the option\n",
      "    >>> with dask.config.set(**{'array.slicing.split_large_chunks': True}):\n",
      "    ...     array[indexer]\n",
      "  return self.array[key]\n",
      "/network/aopp/chaos/pred/leach/software/miniconda3/lib/python3.7/site-packages/xarray/core/indexing.py:1369: PerformanceWarning: Slicing is producing a large chunk. To accept the large\n",
      "chunk and silence this warning, set the option\n",
      "    >>> with dask.config.set(**{'array.slicing.split_large_chunks': False}):\n",
      "    ...     array[indexer]\n",
      "\n",
      "To avoid creating the large chunks, set the option\n",
      "    >>> with dask.config.set(**{'array.slicing.split_large_chunks': True}):\n",
      "    ...     array[indexer]\n",
      "  return self.array[key]\n",
      "/network/aopp/chaos/pred/leach/software/miniconda3/lib/python3.7/site-packages/xarray/core/indexing.py:1369: PerformanceWarning: Slicing is producing a large chunk. To accept the large\n",
      "chunk and silence this warning, set the option\n",
      "    >>> with dask.config.set(**{'array.slicing.split_large_chunks': False}):\n",
      "    ...     array[indexer]\n",
      "\n",
      "To avoid creating the large chunks, set the option\n",
      "    >>> with dask.config.set(**{'array.slicing.split_large_chunks': True}):\n",
      "    ...     array[indexer]\n",
      "  return self.array[key]\n",
      "/network/aopp/chaos/pred/leach/software/miniconda3/lib/python3.7/site-packages/xarray/core/indexing.py:1369: PerformanceWarning: Slicing is producing a large chunk. To accept the large\n",
      "chunk and silence this warning, set the option\n",
      "    >>> with dask.config.set(**{'array.slicing.split_large_chunks': False}):\n",
      "    ...     array[indexer]\n",
      "\n",
      "To avoid creating the large chunks, set the option\n",
      "    >>> with dask.config.set(**{'array.slicing.split_large_chunks': True}):\n",
      "    ...     array[indexer]\n",
      "  return self.array[key]\n",
      "/network/aopp/chaos/pred/leach/software/miniconda3/lib/python3.7/site-packages/xarray/core/indexing.py:1369: PerformanceWarning: Slicing is producing a large chunk. To accept the large\n",
      "chunk and silence this warning, set the option\n",
      "    >>> with dask.config.set(**{'array.slicing.split_large_chunks': False}):\n",
      "    ...     array[indexer]\n",
      "\n",
      "To avoid creating the large chunks, set the option\n",
      "    >>> with dask.config.set(**{'array.slicing.split_large_chunks': True}):\n",
      "    ...     array[indexer]\n",
      "  return self.array[key]\n",
      "/network/aopp/chaos/pred/leach/software/miniconda3/lib/python3.7/site-packages/xarray/core/indexing.py:1369: PerformanceWarning: Slicing is producing a large chunk. To accept the large\n",
      "chunk and silence this warning, set the option\n",
      "    >>> with dask.config.set(**{'array.slicing.split_large_chunks': False}):\n",
      "    ...     array[indexer]\n",
      "\n",
      "To avoid creating the large chunks, set the option\n",
      "    >>> with dask.config.set(**{'array.slicing.split_large_chunks': True}):\n",
      "    ...     array[indexer]\n",
      "  return self.array[key]\n",
      "/network/aopp/chaos/pred/leach/software/miniconda3/lib/python3.7/site-packages/xarray/core/indexing.py:1369: PerformanceWarning: Slicing is producing a large chunk. To accept the large\n",
      "chunk and silence this warning, set the option\n",
      "    >>> with dask.config.set(**{'array.slicing.split_large_chunks': False}):\n",
      "    ...     array[indexer]\n",
      "\n",
      "To avoid creating the large chunks, set the option\n",
      "    >>> with dask.config.set(**{'array.slicing.split_large_chunks': True}):\n",
      "    ...     array[indexer]\n",
      "  return self.array[key]\n",
      "/network/aopp/chaos/pred/leach/software/miniconda3/lib/python3.7/site-packages/xarray/core/indexing.py:1369: PerformanceWarning: Slicing is producing a large chunk. To accept the large\n",
      "chunk and silence this warning, set the option\n",
      "    >>> with dask.config.set(**{'array.slicing.split_large_chunks': False}):\n",
      "    ...     array[indexer]\n",
      "\n",
      "To avoid creating the large chunks, set the option\n",
      "    >>> with dask.config.set(**{'array.slicing.split_large_chunks': True}):\n",
      "    ...     array[indexer]\n",
      "  return self.array[key]\n",
      "/network/aopp/chaos/pred/leach/software/miniconda3/lib/python3.7/site-packages/xarray/core/indexing.py:1369: PerformanceWarning: Slicing is producing a large chunk. To accept the large\n",
      "chunk and silence this warning, set the option\n",
      "    >>> with dask.config.set(**{'array.slicing.split_large_chunks': False}):\n",
      "    ...     array[indexer]\n",
      "\n",
      "To avoid creating the large chunks, set the option\n",
      "    >>> with dask.config.set(**{'array.slicing.split_large_chunks': True}):\n",
      "    ...     array[indexer]\n",
      "  return self.array[key]\n",
      "/network/aopp/chaos/pred/leach/software/miniconda3/lib/python3.7/site-packages/xarray/core/indexing.py:1369: PerformanceWarning: Slicing is producing a large chunk. To accept the large\n",
      "chunk and silence this warning, set the option\n",
      "    >>> with dask.config.set(**{'array.slicing.split_large_chunks': False}):\n",
      "    ...     array[indexer]\n",
      "\n",
      "To avoid creating the large chunks, set the option\n",
      "    >>> with dask.config.set(**{'array.slicing.split_large_chunks': True}):\n",
      "    ...     array[indexer]\n",
      "  return self.array[key]\n",
      "/network/aopp/chaos/pred/leach/software/miniconda3/lib/python3.7/site-packages/xarray/core/indexing.py:1369: PerformanceWarning: Slicing is producing a large chunk. To accept the large\n",
      "chunk and silence this warning, set the option\n",
      "    >>> with dask.config.set(**{'array.slicing.split_large_chunks': False}):\n",
      "    ...     array[indexer]\n",
      "\n",
      "To avoid creating the large chunks, set the option\n",
      "    >>> with dask.config.set(**{'array.slicing.split_large_chunks': True}):\n",
      "    ...     array[indexer]\n",
      "  return self.array[key]\n",
      "/network/aopp/chaos/pred/leach/software/miniconda3/lib/python3.7/site-packages/xarray/core/indexing.py:1369: PerformanceWarning: Slicing is producing a large chunk. To accept the large\n",
      "chunk and silence this warning, set the option\n",
      "    >>> with dask.config.set(**{'array.slicing.split_large_chunks': False}):\n",
      "    ...     array[indexer]\n",
      "\n",
      "To avoid creating the large chunks, set the option\n",
      "    >>> with dask.config.set(**{'array.slicing.split_large_chunks': True}):\n",
      "    ...     array[indexer]\n",
      "  return self.array[key]\n",
      "/network/aopp/chaos/pred/leach/software/miniconda3/lib/python3.7/site-packages/xarray/core/indexing.py:1369: PerformanceWarning: Slicing is producing a large chunk. To accept the large\n",
      "chunk and silence this warning, set the option\n",
      "    >>> with dask.config.set(**{'array.slicing.split_large_chunks': False}):\n",
      "    ...     array[indexer]\n",
      "\n",
      "To avoid creating the large chunks, set the option\n",
      "    >>> with dask.config.set(**{'array.slicing.split_large_chunks': True}):\n",
      "    ...     array[indexer]\n",
      "  return self.array[key]\n",
      "/network/aopp/chaos/pred/leach/software/miniconda3/lib/python3.7/site-packages/xarray/core/indexing.py:1369: PerformanceWarning: Slicing is producing a large chunk. To accept the large\n",
      "chunk and silence this warning, set the option\n",
      "    >>> with dask.config.set(**{'array.slicing.split_large_chunks': False}):\n",
      "    ...     array[indexer]\n",
      "\n",
      "To avoid creating the large chunks, set the option\n",
      "    >>> with dask.config.set(**{'array.slicing.split_large_chunks': True}):\n",
      "    ...     array[indexer]\n",
      "  return self.array[key]\n",
      "/network/aopp/chaos/pred/leach/software/miniconda3/lib/python3.7/site-packages/xarray/core/indexing.py:1369: PerformanceWarning: Slicing is producing a large chunk. To accept the large\n",
      "chunk and silence this warning, set the option\n",
      "    >>> with dask.config.set(**{'array.slicing.split_large_chunks': False}):\n",
      "    ...     array[indexer]\n",
      "\n",
      "To avoid creating the large chunks, set the option\n",
      "    >>> with dask.config.set(**{'array.slicing.split_large_chunks': True}):\n",
      "    ...     array[indexer]\n",
      "  return self.array[key]\n",
      "/network/aopp/chaos/pred/leach/software/miniconda3/lib/python3.7/site-packages/xarray/core/indexing.py:1369: PerformanceWarning: Slicing is producing a large chunk. To accept the large\n",
      "chunk and silence this warning, set the option\n",
      "    >>> with dask.config.set(**{'array.slicing.split_large_chunks': False}):\n",
      "    ...     array[indexer]\n",
      "\n",
      "To avoid creating the large chunks, set the option\n",
      "    >>> with dask.config.set(**{'array.slicing.split_large_chunks': True}):\n",
      "    ...     array[indexer]\n",
      "  return self.array[key]\n",
      "/network/aopp/chaos/pred/leach/software/miniconda3/lib/python3.7/site-packages/xarray/core/indexing.py:1369: PerformanceWarning: Slicing is producing a large chunk. To accept the large\n",
      "chunk and silence this warning, set the option\n",
      "    >>> with dask.config.set(**{'array.slicing.split_large_chunks': False}):\n",
      "    ...     array[indexer]\n",
      "\n",
      "To avoid creating the large chunks, set the option\n",
      "    >>> with dask.config.set(**{'array.slicing.split_large_chunks': True}):\n",
      "    ...     array[indexer]\n",
      "  return self.array[key]\n",
      "/network/aopp/chaos/pred/leach/software/miniconda3/lib/python3.7/site-packages/xarray/core/indexing.py:1369: PerformanceWarning: Slicing is producing a large chunk. To accept the large\n",
      "chunk and silence this warning, set the option\n",
      "    >>> with dask.config.set(**{'array.slicing.split_large_chunks': False}):\n",
      "    ...     array[indexer]\n",
      "\n",
      "To avoid creating the large chunks, set the option\n",
      "    >>> with dask.config.set(**{'array.slicing.split_large_chunks': True}):\n",
      "    ...     array[indexer]\n",
      "  return self.array[key]\n",
      "/network/aopp/chaos/pred/leach/software/miniconda3/lib/python3.7/site-packages/xarray/core/indexing.py:1369: PerformanceWarning: Slicing is producing a large chunk. To accept the large\n",
      "chunk and silence this warning, set the option\n",
      "    >>> with dask.config.set(**{'array.slicing.split_large_chunks': False}):\n",
      "    ...     array[indexer]\n",
      "\n",
      "To avoid creating the large chunks, set the option\n",
      "    >>> with dask.config.set(**{'array.slicing.split_large_chunks': True}):\n",
      "    ...     array[indexer]\n",
      "  return self.array[key]\n",
      "/network/aopp/chaos/pred/leach/software/miniconda3/lib/python3.7/site-packages/dask/array/core.py:4299: PerformanceWarning: Increasing number of chunks by factor of 51\n",
      "  **blockwise_kwargs,\n",
      "/network/aopp/chaos/pred/leach/software/miniconda3/lib/python3.7/site-packages/dask/array/core.py:4299: PerformanceWarning: Increasing number of chunks by factor of 10\n",
      "  **blockwise_kwargs,\n",
      "/network/aopp/chaos/pred/leach/software/miniconda3/lib/python3.7/site-packages/dask/array/core.py:4299: PerformanceWarning: Increasing number of chunks by factor of 51\n",
      "  **blockwise_kwargs,\n",
      "/network/aopp/chaos/pred/leach/software/miniconda3/lib/python3.7/site-packages/dask/array/core.py:4299: PerformanceWarning: Increasing number of chunks by factor of 10\n",
      "  **blockwise_kwargs,\n",
      "/network/aopp/chaos/pred/leach/software/miniconda3/lib/python3.7/site-packages/dask/array/core.py:4299: PerformanceWarning: Increasing number of chunks by factor of 51\n",
      "  **blockwise_kwargs,\n",
      "/network/aopp/chaos/pred/leach/software/miniconda3/lib/python3.7/site-packages/dask/array/core.py:4299: PerformanceWarning: Increasing number of chunks by factor of 10\n",
      "  **blockwise_kwargs,\n",
      "/network/aopp/chaos/pred/leach/software/miniconda3/lib/python3.7/site-packages/dask/array/core.py:4299: PerformanceWarning: Increasing number of chunks by factor of 51\n",
      "  **blockwise_kwargs,\n",
      "/network/aopp/chaos/pred/leach/software/miniconda3/lib/python3.7/site-packages/dask/array/core.py:4299: PerformanceWarning: Increasing number of chunks by factor of 10\n",
      "  **blockwise_kwargs,\n"
     ]
    }
   ],
   "source": [
    "OPERATIONAL_Z500_distance = []\n",
    "\n",
    "for fcdate in experiment_index.index:\n",
    "    # calculate mean absolute distance between ensemble members over EU domain for each inidate\n",
    "    OPERATIONAL_Z500_distance += [\n",
    "        xr.concat(\n",
    "            [np.fabs(\n",
    "                (ENS_z500_eu[fcdate].sel(number=ensmem,experiment='operational').dropna(dim='time')-ENS_z500_eu[fcdate].isel(number=ENS_z500_eu[fcdate].number!=ensmem).sel(experiment='operational').dropna(dim='time'))\n",
    "            ).weighted(EU_lat_weights).mean(['latitude','longitude']).rename(number='number1').assign_coords(number1=np.arange(50)) for ensmem in ENS_z500_eu[fcdate].number],dim='number'\n",
    "        )\n",
    "    ]\n",
    "    \n",
    "OPERATIONAL_Z500_distance = xr.concat(OPERATIONAL_Z500_distance,dim='inidate').compute()"
   ]
  },
  {
   "cell_type": "markdown",
   "metadata": {},
   "source": [
    "#### Get mean absolute Z500 distance between experiments members."
   ]
  },
  {
   "cell_type": "markdown",
   "metadata": {},
   "source": [
    "ie. inter-experimental distances"
   ]
  },
  {
   "cell_type": "code",
   "execution_count": 13,
   "metadata": {},
   "outputs": [],
   "source": [
    "import itertools\n",
    "\n",
    "EXPERIMENTAL_Z500_distance = []\n",
    "\n",
    "for fcdate in experiment_index.index:\n",
    "    fcdate_EXP_Z500_dist = []\n",
    "    for exp1,exp2 in itertools.combinations(ENS_z500_eu[fcdate].experiment.values,2):\n",
    "        fcdate_EXP_Z500_dist += [np.fabs(ENS_z500_eu[fcdate].sel(experiment=exp1) - ENS_z500_eu[fcdate].sel(experiment=exp2)).weighted(EU_lat_weights).mean(['latitude','longitude']).expand_dims({'experiment':[exp1+'|'+exp2]})]\n",
    "        \n",
    "    EXPERIMENTAL_Z500_distance += [xr.concat(fcdate_EXP_Z500_dist,dim='experiment')]\n",
    "    \n",
    "EXPERIMENTAL_Z500_distance = xr.concat(EXPERIMENTAL_Z500_distance,dim='inidate').compute()"
   ]
  },
  {
   "cell_type": "markdown",
   "metadata": {},
   "source": [
    "Wrangle into nice format for plotting."
   ]
  },
  {
   "cell_type": "code",
   "execution_count": 15,
   "metadata": {},
   "outputs": [],
   "source": [
    "### distances between experiments / operational ensemble members\n",
    "operational_divegence_plot_data = (OPERATIONAL_Z500_distance/9.80665).stack(index=['inidate','time','number','number1']).to_pandas().sort_index().reset_index().rename({0:'distance'},axis=1).dropna()\n",
    "experimental_divegence_plot_data = (EXPERIMENTAL_Z500_distance/9.80665).stack(index=['inidate','experiment','time','number']).to_pandas().sort_index().reset_index().rename({0:'distance'},axis=1).dropna()"
   ]
  },
  {
   "cell_type": "markdown",
   "metadata": {},
   "source": [
    "Finally, get mean absolute error (distance) from ERA5."
   ]
  },
  {
   "cell_type": "code",
   "execution_count": 29,
   "metadata": {},
   "outputs": [],
   "source": [
    "### MAD from ERA5\n",
    "ERA5_EU_Z500 = xr.open_dataset('../../ERA5/EU_FEB_19/ERA5_plev_500-850_2019.nc').z.sel(level=500,time=slice('2019-02-04','2019-02-27'))\n",
    "\n",
    "EU_z500_error = []\n",
    "for fcdate in experiment_index.index:\n",
    "    EU_z500_error+=[np.fabs(ENS_z500_eu[fcdate]-ERA5_EU_Z500).weighted(EU_lat_weights).mean(['latitude','longitude'])]\n",
    "    \n",
    "EU_z500_error = (xr.concat(EU_z500_error,dim='inidate')/9.80665).stack(index=['inidate','experiment','time','number']).to_pandas().sort_index().reset_index().rename({0:'distance'},axis=1).dropna()"
   ]
  },
  {
   "cell_type": "markdown",
   "metadata": {},
   "source": [
    "## Create the figure"
   ]
  },
  {
   "cell_type": "markdown",
   "metadata": {},
   "source": [
    "- panel Aa,Ab : timeseries & boxplot of global mean land / ocean temps\n",
    "- panel B : MAE from ERA5 of EU Z500\n",
    "- panel C,D : intra-ensemble / inter-experimental Z500 MAD"
   ]
  },
  {
   "cell_type": "code",
   "execution_count": 17,
   "metadata": {},
   "outputs": [],
   "source": [
    "## this cell contains definitions for creating the various sigure styles here.\n",
    "\n",
    "def custom_boxplot(x,y,ax,width=0.2,n_boot=1000,**kwargs):\n",
    "    # vertically oriented boxplot\n",
    "    \n",
    "    ## compute median & confidence:\n",
    "    box_med = np.median(y)\n",
    "    box_med_boot = y[np.random.choice(y.size,y.size*n_boot)].reshape(y.size,-1)\n",
    "    box_med_ci = np.quantile(np.median(box_med_boot,axis=0),[0.05,0.95])\n",
    "    \n",
    "    ## compute ensemble spread\n",
    "    box_ens_ci = np.quantile(y,[0.05,0.95])\n",
    "    \n",
    "    ax.fill_between([x,x+width],*box_med_ci,lw=0,**kwargs)\n",
    "    if 'alpha' in kwargs.keys():\n",
    "        kwargs['alpha'] = kwargs['alpha']/2\n",
    "    else:\n",
    "        kwargs['alpha'] = 0.5\n",
    "    ax.fill_between([x,x+width],*box_ens_ci,lw=0,**kwargs)\n",
    "    ax.hlines(box_med,x,x+width,lw=1,color='k')\n",
    "    \n",
    "def percentile(n):\n",
    "    def percentile_(x):\n",
    "        return np.percentile(x, n)\n",
    "    percentile_.__name__ = 'percentile_%s' % n\n",
    "    return percentile_\n",
    "\n",
    "def ensemble_mean_percentile(n):\n",
    "    def percentile_(x):\n",
    "        return np.percentile(x.values[np.random.choice(x.size,x.size*10000)].reshape(x.size,-1).mean(axis=0), n)\n",
    "    percentile_.__name__ = 'confidence_%s' % n\n",
    "    return percentile_\n",
    "\n",
    "def zonmean_plot(x,y,**kwargs):\n",
    "    grouped = y.rename(x).groupby(level=0)\n",
    "    agg = grouped.agg(['mean',percentile(95),percentile(5),ensemble_mean_percentile(95),ensemble_mean_percentile(5)])\n",
    "    plt.plot(agg.index,agg['mean'],label='mean',**kwargs)\n",
    "    plt.fill_between(agg.index,agg.percentile_5,agg.percentile_95,alpha=0.2,lw=0,label='ensemble 90 %',**kwargs)\n",
    "    plt.fill_between(agg.index,agg.confidence_5,agg.confidence_95,alpha=0.2,lw=0,label='mean 90 %',**kwargs)\n",
    "    \n",
    "def ensemble_spread_plot(x,y,**kwargs):\n",
    "    grouped = y.dropna().rename(x).groupby(level=0)\n",
    "    agg = grouped.agg(['mean',percentile(95),percentile(5)])\n",
    "    plt.fill_between(agg.index,agg.percentile_5,agg.percentile_95,alpha=0.2,lw=0,**kwargs)"
   ]
  },
  {
   "cell_type": "markdown",
   "metadata": {},
   "source": [
    "##  Create the figure subplots"
   ]
  },
  {
   "cell_type": "markdown",
   "metadata": {},
   "source": [
    "For this one, create the subplots individually to be merged in inkscape."
   ]
  },
  {
   "cell_type": "code",
   "execution_count": 18,
   "metadata": {},
   "outputs": [
    {
     "name": "stderr",
     "output_type": "stream",
     "text": [
      "/network/aopp/chaos/pred/leach/software/miniconda3/lib/python3.7/site-packages/ipykernel_launcher.py:28: PerformanceWarning: indexing past lexsort depth may impact performance.\n"
     ]
    },
    {
     "data": {
      "text/plain": [
       "''"
      ]
     },
     "execution_count": 18,
     "metadata": {},
     "output_type": "execute_result"
    },
    {
     "data": {
      "image/png": "[encoded data removed]",
      "text/plain": [
       "<Figure size 540x360 with 2 Axes>"
      ]
     },
     "metadata": {
      "needs_background": "light"
     },
     "output_type": "display_data"
    }
   ],
   "source": [
    "fig = plt.figure(figsize=(7.5,5))\n",
    "gs = fig.add_gridspec(1,6,wspace=0.1,hspace=0.15)\n",
    "\n",
    "## PANEL A (+b)\n",
    "\n",
    "ax = [fig.add_subplot(gs[0,:-1])]\n",
    "\n",
    "sn.lineplot(data=global_t2m_lineplot_data.unstack().sort_index().reset_index().rename({0:'t2m','level_0':'domain'},axis=1),palette=['g','steelblue'],style='inidate',hue='domain',x='time',y='t2m')\n",
    "plt.xlim('2019-02-04 00:00:00','2019-02-28 00:00:00')\n",
    "plt.xticks(global_t2m_lineplot_data.sort_index().index[2::4],labels=[x.strftime(\"%Y-%m-%d\") for x in  pd.to_datetime(global_t2m_lineplot_data.sort_index().index)[2::4]],rotation=-30,ha='left',rotation_mode=\"anchor\")\n",
    "sn.despine()\n",
    "plt.ylabel('global CO$_2$ t2m signal / K')\n",
    "\n",
    "handles = ax[0].get_legend_handles_labels()[0]\n",
    "labels = ax[0].get_legend_handles_labels()[1]\n",
    "labels[0] = r'$\\bf{'+labels[0]+'}$'\n",
    "labels[3] = r'$\\bf{'+labels[3]+'}$'\n",
    "\n",
    "plt.legend(handles=handles,labels=labels,labelspacing=0.2,loc=2)\n",
    "\n",
    "ax += [fig.add_subplot(gs[0,5])]\n",
    "\n",
    "box_sep = 1\n",
    "subbox_sep = 0.4\n",
    "\n",
    "for i,inidate in enumerate(global_t2m_boxplot_data.index.levels[1][::-1]):\n",
    "    for ii,domain in enumerate(global_t2m_boxplot_data.index.levels[0]):\n",
    "        custom_boxplot(i*box_sep+ii*subbox_sep,global_t2m_boxplot_data.loc[(domain,inidate)].values,ax=ax[1],n_boot=10000,width=0.3,color=['g','steelblue'][ii],alpha=0.5)\n",
    "        \n",
    "ax[1].set_yticklabels([])\n",
    "plt.xlim(-0.2,4)\n",
    "plt.xlabel('inidate')\n",
    "sn.despine()\n",
    "plt.xticks(np.arange(4)+0.35,global_t2m_boxplot_data.index.levels[1][::-1],rotation=-30,ha='left',rotation_mode=\"anchor\")\n",
    "plt.title('25$^{\\mathregular{th}}$-27$^{\\mathregular{th}}$')\n",
    "ax[1].text(1.02,1,'A',transform=ax[1].transAxes,fontweight='bold',fontsize=20,va='top',ha='left')\n",
    "\n",
    "[a.set_ylim(-0.3,0.6) for a in ax]\n",
    "[a.axhline(0,ls=':',color='k',alpha=0.5) for a in ax]\n",
    "\n",
    "# [fig.savefig('FIGS/Fig3/A.'+x,dpi=600,bbox_inches='tight') for x in ['png','pdf']]\n",
    "# fig.dpi=300\n",
    "''"
   ]
  },
  {
   "cell_type": "code",
   "execution_count": 31,
   "metadata": {},
   "outputs": [
    {
     "data": {
      "text/plain": [
       "''"
      ]
     },
     "execution_count": 31,
     "metadata": {},
     "output_type": "execute_result"
    },
    {
     "data": {
      "image/png": "[encoded data removed]",
      "text/plain": [
       "<Figure size 540x360 with 1 Axes>"
      ]
     },
     "metadata": {
      "needs_background": "light"
     },
     "output_type": "display_data"
    }
   ],
   "source": [
    "g=sn.FacetGrid(data=EU_z500_error.query('experiment==\"operational\"'),hue='inidate',palette='PuBuGn',height=5,aspect=7.5/5)\n",
    "g.map(ensemble_spread_plot,'time','distance')\n",
    "sn.lineplot(data=EU_z500_error.sort_values(['experiment','inidate'], key=lambda x: x.map({'operational':0,'pi-CO2':1,'incr-CO2':2})),x='time',y='distance',hue='inidate',style='experiment',ci=None,palette='PuBuGn',ax=g.axes[0,0])\n",
    "\n",
    "handles = g.axes[0,0].get_legend_handles_labels()[0]\n",
    "labels = g.axes[0,0].get_legend_handles_labels()[1]\n",
    "labels[0] = r'$\\bf{'+labels[0]+'}$'\n",
    "labels[5] = r'$\\bf{'+labels[5]+'}$'\n",
    "\n",
    "plt.legend(handles=handles[:-4],labels=labels[:-4])\n",
    "\n",
    "plt.ylabel('Z500 distance / m')\n",
    "plt.xlim('2019-02-04 00:00:00','2019-02-27 18:00:00')\n",
    "plt.ylim(0,250)\n",
    "# plt.gca().set_xticklabels([])\n",
    "# plt.xlabel('')\n",
    "\n",
    "g.axes[0,0].text(1.02,1,'B',transform=g.axes[0,0].transAxes,fontweight='bold',fontsize=20,va='top',ha='left')\n",
    "g.axes[0,0].text(1,1.01,'mean absolute error',transform=g.axes[0,0].transAxes,va='bottom',ha='right')\n",
    "# plt.title('Experimental error growth',fontweight='bold')\n",
    "# [g.fig.savefig('FIGS/Fig3/C.'+x,dpi=600,bbox_inches='tight') for x in ['png','pdf']]\n",
    "''"
   ]
  },
  {
   "cell_type": "code",
   "execution_count": 21,
   "metadata": {},
   "outputs": [
    {
     "data": {
      "text/plain": [
       "''"
      ]
     },
     "execution_count": 21,
     "metadata": {},
     "output_type": "execute_result"
    },
    {
     "data": {
      "image/png": "[encoded data removed]",
      "text/plain": [
       "<Figure size 297x198 with 1 Axes>"
      ]
     },
     "metadata": {
      "needs_background": "light"
     },
     "output_type": "display_data"
    }
   ],
   "source": [
    "g=sn.FacetGrid(data=experimental_divegence_plot_data.query('experiment==\"pi-CO2|incr-CO2\"'),hue='inidate',palette='PuBuGn',height=2.75,aspect=7.5/5)\n",
    "g.map(ensemble_spread_plot,'time','distance')\n",
    "sn.lineplot(data=experimental_divegence_plot_data.sort_values(['experiment','inidate'], key=lambda x: x.map({'pi-CO2|operational':0,'pi-CO2|incr-CO2':1,'incr-CO2|operational':2})),x='time',y='distance',hue='inidate',style='experiment',ci=None,palette='PuBuGn',ax=g.axes[0,0])\n",
    "\n",
    "handles = g.axes[0,0].get_legend_handles_labels()[0]\n",
    "labels = g.axes[0,0].get_legend_handles_labels()[1]\n",
    "labels[0] = r'$\\bf{'+labels[0]+'}$'\n",
    "labels[5] = r'$\\bf{'+labels[5]+'s}$'\n",
    "\n",
    "plt.legend(handles=handles[5:-4],labels=labels[5:-4],loc=2)\n",
    "\n",
    "plt.ylabel('Z500 distance / m')\n",
    "plt.xlim('2019-02-04 00:00:00','2019-02-27 18:00:00')\n",
    "plt.ylim(0,250)\n",
    "plt.gca().set_xticks(['2019-02-05','2019-02-15','2019-02-25'])\n",
    "# plt.xlabel('')\n",
    "\n",
    "g.axes[0,0].text(1.02,1,'C',transform=g.axes[0,0].transAxes,fontweight='bold',fontsize=20,va='top',ha='left')\n",
    "g.axes[0,0].text(1,1.01,'inter-experimental',transform=g.axes[0,0].transAxes,va='bottom',ha='right')\n",
    "# plt.title('inter-experimental error growth',fontweight='bold')\n",
    "\n",
    "# [g.fig.savefig('FIGS/Fig3/D.'+x,dpi=600,bbox_inches='tight') for x in ['png','pdf']]\n",
    "''"
   ]
  },
  {
   "cell_type": "code",
   "execution_count": 22,
   "metadata": {},
   "outputs": [
    {
     "data": {
      "text/plain": [
       "''"
      ]
     },
     "execution_count": 22,
     "metadata": {},
     "output_type": "execute_result"
    },
    {
     "data": {
      "image/png": "[encoded data removed]",
      "text/plain": [
       "<Figure size 297x198 with 1 Axes>"
      ]
     },
     "metadata": {
      "needs_background": "light"
     },
     "output_type": "display_data"
    }
   ],
   "source": [
    "g=sn.FacetGrid(data=operational_divegence_plot_data,hue='inidate',palette='PuBuGn',height=2.75,aspect=7.5/5)\n",
    "g.map(ensemble_spread_plot,'time','distance')\n",
    "sn.lineplot(data=operational_divegence_plot_data,x='time',y='distance',hue='inidate',ci=None,palette='PuBuGn',ax=g.axes[0,0])\n",
    "\n",
    "plt.xlim('2019-02-04 00:00:00','2019-02-27 18:00:00')\n",
    "plt.ylim(0,250)\n",
    "plt.gca().set_yticklabels([])\n",
    "# plt.title('intra-ensemble error growth',fontweight='bold')\n",
    "plt.ylabel('')\n",
    "plt.gca().set_xticks(['2019-02-05','2019-02-15','2019-02-25'])\n",
    "\n",
    "plt.gca().get_legend().remove()\n",
    "\n",
    "g.axes[0,0].text(1.02,1,'D',transform=g.axes[0,0].transAxes,fontweight='bold',fontsize=20,va='top',ha='left')\n",
    "g.axes[0,0].text(1,1.01,'intra-ensemble',transform=g.axes[0,0].transAxes,va='bottom',ha='right')\n",
    "\n",
    "# [g.fig.savefig('FIGS/Fig3/E.'+x,dpi=600,bbox_inches='tight') for x in ['png','pdf']]\n",
    "''"
   ]
  }
 ],
 "metadata": {
  "kernelspec": {
   "display_name": "Python 3",
   "language": "python",
   "name": "python3"
  },
  "language_info": {
   "codemirror_mode": {
    "name": "ipython",
    "version": 3
   },
   "file_extension": ".py",
   "mimetype": "text/x-python",
   "name": "python",
   "nbconvert_exporter": "python",
   "pygments_lexer": "ipython3",
   "version": "3.7.10"
  }
 },
 "nbformat": 4,
 "nbformat_minor": 4
}
