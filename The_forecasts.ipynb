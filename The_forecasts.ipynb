{
 "cells": [
  {
   "cell_type": "markdown",
   "metadata": {},
   "source": [
    "### Import dependencies"
   ]
  },
  {
   "cell_type": "code",
   "execution_count": 1,
   "metadata": {
    "jupyter": {
     "source_hidden": true
    }
   },
   "outputs": [],
   "source": [
    "import numpy as np\n",
    "import scipy as sp\n",
    "import netCDF4 as nC4\n",
    "import lmoments3 as lm3\n",
    "# import lmoments3.distr\n",
    "# import lmoments3.stats\n",
    "import scipy.signal\n",
    "import matplotlib\n",
    "import matplotlib.pyplot as plt\n",
    "import seaborn as sn\n",
    "import eofs\n",
    "from cdo import Cdo\n",
    "cdo = Cdo(tempdir='/network/aopp/chaos/pred/leach/.cdo_temp_files1')\n",
    "# uncomment the below if you want to clean up the temporary directory\n",
    "cdo.cleanTempDir()\n",
    "import cartopy\n",
    "from cartopy import crs\n",
    "from cartopy.mpl.ticker import LongitudeFormatter, LatitudeFormatter\n",
    "import cartopy.feature as cfeature\n",
    "import xarray as xr\n",
    "import xskillscore as xs\n",
    "import os\n",
    "import pandas as pd\n",
    "from mpl_toolkits.axes_grid1.inset_locator import inset_axes\n",
    "import sys\n",
    "import glob\n",
    "import datetime\n",
    "import time\n",
    "import multiprocessing\n",
    "import tqdm\n",
    "import cmocean\n",
    "from shapely.geometry.polygon import LinearRing\n",
    "\n",
    "import pyarrow as pa\n",
    "import pyarrow.parquet as pq\n",
    "\n",
    "sys.path.append('/home/leach/Downloads/')\n",
    "import ScientificColourMaps6 as SCM6\n",
    "\n",
    "from IPython.display import display, clear_output\n",
    "\n",
    "# import my own statistics repository\n",
    "from mystatsfunctions import LMoments,OLSE\n",
    "\n",
    "## Matplotlib rcparams setup:\n",
    "matplotlib.rcParams['font.family']='Helvetica'\n",
    "matplotlib.rcParams['font.size']=11\n",
    "# matplotlib.rcParams['font.weight']=400\n",
    "matplotlib.rcParams['image.cmap']='cmo.ice'\n",
    "matplotlib.rcParams['axes.prop_cycle']=matplotlib.cycler('color',['011936','FF7D00','225560','BFACAA','D72638','788C9B','A33F00','7CAAB0','685655','EB767C'])\n",
    "matplotlib.rcParams['axes.formatter.limits']=-3,3\n",
    "# matplotlib.rcParams['axes.labelweight']=300\n",
    "matplotlib.rcParams['legend.frameon']=False\n",
    "matplotlib.rcParams['boxplot.whiskers']=(5,95)\n",
    "matplotlib.rcParams['boxplot.showfliers']=False\n",
    "matplotlib.rcParams['boxplot.showfliers']=False\n",
    "matplotlib.rcParams['boxplot.medianprops.color']='black'\n",
    "matplotlib.rcParams['errorbar.capsize']=5\n",
    "matplotlib.rcParams['hist.bins']='auto'\n",
    "plt.rcParams['pdf.fonttype'] = 42\n",
    "\n",
    "%matplotlib inline"
   ]
  },
  {
   "cell_type": "code",
   "execution_count": 2,
   "metadata": {
    "jupyter": {
     "source_hidden": true
    }
   },
   "outputs": [],
   "source": [
    "## plotting functions:\n",
    "\n",
    "def add_lat_lon_ticks(ax,lat=True,lon=True):\n",
    "    if lon:\n",
    "        ax.set_xticks(np.arange(-20,50,10), crs=crs.PlateCarree())\n",
    "        lon_formatter = LongitudeFormatter(zero_direction_label=True)\n",
    "        ax.xaxis.set_major_formatter(lon_formatter)\n",
    "    if lat:\n",
    "        ax.set_yticks(np.arange(40,75,10), crs=crs.PlateCarree())\n",
    "        lat_formatter = LatitudeFormatter()\n",
    "        ax.yaxis.set_major_formatter(lat_formatter)"
   ]
  },
  {
   "cell_type": "markdown",
   "metadata": {},
   "source": [
    "## Import Data"
   ]
  },
  {
   "cell_type": "markdown",
   "metadata": {},
   "source": [
    "#### Useful definitions\n",
    "Defines the PRUDENCE region extents and imports the a land-sea mask."
   ]
  },
  {
   "cell_type": "code",
   "execution_count": 3,
   "metadata": {
    "jupyter": {
     "source_hidden": true
    }
   },
   "outputs": [
    {
     "name": "stdout",
     "output_type": "stream",
     "text": [
      "{'BI': '-10,2,50,59', 'IP': '-10,3,36,44', 'FR': '-5,5,44,50', 'CE': '2,16,48,55', 'SC': '5,30,55,70', 'AL': '5,15,44,48', 'MD': '3,25,36,44', 'EE': '16,30,44,55'}\n"
     ]
    }
   ],
   "source": [
    "## define EU domain:\n",
    "EU_rg = \"-27,45,33,73.5\"\n",
    "\n",
    "## define PRUDENCE region extents:\n",
    "PD_rg = dict(zip(['BI','IP','FR','CE','SC','AL','MD','EE'],['-10,2,50,59','-10,3,36,44','-5,5,44,50','2,16,48,55','5,30,55,70','5,15,44,48','3,25,36,44','16,30,44,55']))\n",
    "print(PD_rg)\n",
    "\n",
    "## get land-sea mask & inversion:\n",
    "lsm = cdo.setctomiss('0',input= '-gtc,0.5 ../../ERA5/ERA5_land_sea_mask.nc')\n",
    "lsm_inv = cdo.setctomiss('0',input= '-ltc,0.5 ../../ERA5/ERA5_land_sea_mask.nc')"
   ]
  },
  {
   "cell_type": "markdown",
   "metadata": {},
   "source": [
    "### Get the operational forecast, M-climate and ERA5 reanalysis"
   ]
  },
  {
   "cell_type": "code",
   "execution_count": 4,
   "metadata": {},
   "outputs": [],
   "source": [
    "## list of forecast start dates\n",
    "fcdates = [x.split('/')[-1].split('_')[0] for x in glob.glob('../../OPERATIONAL/EU_FEB_19/sfc/*_sfc.nc')]"
   ]
  },
  {
   "cell_type": "markdown",
   "metadata": {},
   "source": [
    "#### mx2t"
   ]
  },
  {
   "cell_type": "markdown",
   "metadata": {},
   "source": [
    "operational forecast"
   ]
  },
  {
   "cell_type": "code",
   "execution_count": 5,
   "metadata": {},
   "outputs": [],
   "source": [
    "## get operational forecasts:\n",
    "\n",
    "op_mx2t = []\n",
    "\n",
    "for fcdate in fcdates:\n",
    "    \n",
    "    pf = xr.open_dataset('../../OPERATIONAL/EU_FEB_19/sfc/'+fcdate+'_sfc.nc',chunks={'time':1,'number':10}).mx2t.loc['2019-02-25':'2019-02-27'].max('time')\n",
    "    cf = xr.open_dataset('../../OPERATIONAL/EU_FEB_19/sfc/ctrl/'+fcdate+'_sfc.nc',chunks={'time':1}).mx2t.loc['2019-02-25':'2019-02-27'].max('time')\n",
    "    op_mx2t += [xr.concat([pf,cf.expand_dims({'number':[51]})],dim='number').expand_dims({'inidate':[fcdate]})]\n",
    "    \n",
    "op_mx2t = xr.concat(op_mx2t,dim='inidate')"
   ]
  },
  {
   "cell_type": "markdown",
   "metadata": {},
   "source": [
    "M-climate (model climatology based on reforecasts)"
   ]
  },
  {
   "cell_type": "code",
   "execution_count": 6,
   "metadata": {},
   "outputs": [
    {
     "name": "stdout",
     "output_type": "stream",
     "text": [
      "getting rfc_data for 2019-02-04getting rfc_data for 2019-02-11getting rfc_data for 2019-02-23getting rfc_data for 2019-02-17\n",
      "\n",
      "\n",
      "\n"
     ]
    }
   ],
   "source": [
    "## get reforecast data:\n",
    "### need to grab reforecast data for each inidate:\n",
    "\n",
    "rfc_dates = {\n",
    "    '2019-02-04':['2019-01-'+'{:0>2}'.format(x) for x in [21,24,28,31]]+['2019-02-'+'{:0>2}'.format(x) for x in [4,7,11,14,18]],\n",
    "    '2019-02-11':['2019-01-'+'{:0>2}'.format(x) for x in [28,31]]+['2019-02-'+'{:0>2}'.format(x) for x in [4,7,11,14,18,21,25]],\n",
    "    '2019-02-17':['2019-01-'+'{:0>2}'.format(x) for x in [31]]+['2019-02-'+'{:0>2}'.format(x) for x in [4,7,11,14,18,21,25,28]],\n",
    "    '2019-02-23':['2019-02-'+'{:0>2}'.format(x) for x in [7,11,14,18,21,25,28]]+['2019-03-'+'{:0>2}'.format(x) for x in [4,7]],\n",
    "}\n",
    "\n",
    "basedir = '/network/aopp/chaos/pred/leach/OPERATIONAL/EU_FEB_19/sfc/M-climate/2019-02-17/'\n",
    "\n",
    "rfc_days = {\n",
    "    '2019-02-04':[x-4 for x in [25,26,27]],\n",
    "    '2019-02-11':[x-11 for x in [25,26,27]],\n",
    "    '2019-02-17':[x-17 for x in [25,26,27]],\n",
    "    '2019-02-23':[x-23 for x in [25,26,27]],\n",
    "}\n",
    "\n",
    "def get_rfc_data(fcdate):\n",
    "    \n",
    "    print('getting rfc_data for '+fcdate)\n",
    "    \n",
    "    rfc_data = []\n",
    "\n",
    "    for i,rfc_date in enumerate(rfc_dates[fcdate]):\n",
    "\n",
    "        cf_file = basedir+'rfc_init_'+rfc_date+'_cf.nc'\n",
    "        pf_file = basedir+'rfc_init_'+rfc_date+'_pf.nc'\n",
    "\n",
    "        year,mon,day = [int(x) for x in rfc_date.split('-')]\n",
    "        datetimes = ','.join([(datetime.datetime(year,mon,day)+datetime.timedelta(days=y)-pd.DateOffset(years=x)).strftime('%Y-%m-%d') for x in np.arange(1,21) for y in rfc_days[fcdate]])\n",
    "        \n",
    "        cf = xr.open_dataset(cdo.yearmax(input=\"-select,date=\"+datetimes+\" -selname,mx2t6 \"+cf_file),chunks = {'time':10}).expand_dims({'number':[11]})\n",
    "        pf = xr.open_dataset(cdo.yearmax(input=\"-select,date=\"+datetimes+\" -selname,mx2t6 \"+pf_file),chunks = {'time':10})\n",
    "        rfc_data += [xr.concat([pf,cf],dim='number').stack(rfc_number=['time','number']).assign_coords(rfc_number=np.arange(i*220,(i+1)*220))]\n",
    "        cf.close()\n",
    "        pf.close()\n",
    "\n",
    "    return xr.concat(rfc_data,dim='rfc_number').expand_dims({'inidate':[fcdate]})\n",
    "\n",
    "P1 = multiprocessing.Pool(processes=4)\n",
    "rfc_mx2t = P1.map(get_rfc_data,list(rfc_dates.keys()))\n",
    "P1.close()\n",
    "\n",
    "rfc_mx2t = xr.concat(rfc_mx2t,dim='inidate')"
   ]
  },
  {
   "cell_type": "markdown",
   "metadata": {},
   "source": [
    "ERA5"
   ]
  },
  {
   "cell_type": "code",
   "execution_count": 8,
   "metadata": {},
   "outputs": [],
   "source": [
    "ERA5_mx2t = xr.open_dataset('../../ERA5/EU_FEB_19/ERA5_sfc_2019.nc').mx2t.loc['2019-02-25':'2019-02-27'].max('time')"
   ]
  },
  {
   "cell_type": "markdown",
   "metadata": {},
   "source": [
    "### Z500"
   ]
  },
  {
   "cell_type": "markdown",
   "metadata": {},
   "source": [
    "operational forecast"
   ]
  },
  {
   "cell_type": "code",
   "execution_count": 9,
   "metadata": {},
   "outputs": [],
   "source": [
    "## get operational forecasts:\n",
    "\n",
    "op_z500 = []\n",
    "\n",
    "for fcdate in fcdates:\n",
    "    \n",
    "    pf = xr.open_dataset('../../OPERATIONAL/EU_FEB_19/plev/'+fcdate+'.nc',chunks={'time':1,'number':10}).Z500.loc['2019-02-25':'2019-02-27'].resample(time='1D').mean()\n",
    "    cf = xr.open_dataset('../../OPERATIONAL/EU_FEB_19/plev/ctrl/'+fcdate+'.nc',chunks={'time':1}).Z500.loc['2019-02-25':'2019-02-27'].resample(time='1D').mean()\n",
    "    op_z500 += [xr.concat([pf,cf.expand_dims({'number':[51]})],dim='number').expand_dims({'inidate':[fcdate]})]\n",
    "    \n",
    "op_z500 = xr.concat(op_z500,dim='inidate')"
   ]
  },
  {
   "cell_type": "markdown",
   "metadata": {},
   "source": [
    "M-climate (model climatology based on reforecasts)"
   ]
  },
  {
   "cell_type": "code",
   "execution_count": 10,
   "metadata": {},
   "outputs": [
    {
     "name": "stdout",
     "output_type": "stream",
     "text": [
      "getting rfc_data for 2019-02-04getting rfc_data for 2019-02-11getting rfc_data for 2019-02-17getting rfc_data for 2019-02-23\n",
      "\n",
      "\n",
      "\n"
     ]
    }
   ],
   "source": [
    "basedir = '/network/aopp/chaos/pred/leach/OPERATIONAL/EU_FEB_19/plev/M-climate/2019-02-17/'\n",
    "\n",
    "def get_rfc_data_Z500(fcdate):\n",
    "    \n",
    "    print('getting rfc_data for '+fcdate)\n",
    "    \n",
    "    rfc_data = []\n",
    "\n",
    "    for i,rfc_date in enumerate(rfc_dates[fcdate]):\n",
    "\n",
    "        cf_file = basedir+'rfc_init_'+rfc_date+'_Z500_cf.nc'\n",
    "        pf_file = basedir+'rfc_init_'+rfc_date+'_Z500_pf.nc'\n",
    "\n",
    "        year,mon,day = [int(x) for x in rfc_date.split('-')]\n",
    "        datetimes = ','.join([(datetime.datetime(year,mon,day)+datetime.timedelta(days=y)-pd.DateOffset(years=x)).strftime('%Y-%m-%d') for x in np.arange(1,21) for y in rfc_days[fcdate]])\n",
    "        \n",
    "        cf = xr.open_dataset(cdo.yearmean(input=\"-select,date=\"+datetimes+\" -selname,z \"+cf_file),chunks = {'time':10}).expand_dims({'number':[11]})\n",
    "        pf = xr.open_dataset(cdo.yearmean(input=\"-select,date=\"+datetimes+\" -selname,z \"+pf_file),chunks = {'time':10})\n",
    "        rfc_data += [xr.concat([pf,cf],dim='number').stack(rfc_number=['time','number']).assign_coords(rfc_number=np.arange(i*220,(i+1)*220))]\n",
    "        cf.close()\n",
    "        pf.close()\n",
    "\n",
    "    return xr.concat(rfc_data,dim='rfc_number').expand_dims({'inidate':[fcdate]})\n",
    "\n",
    "P1 = multiprocessing.Pool(processes=4)\n",
    "rfc_z500 = P1.map(get_rfc_data_Z500,list(rfc_dates.keys()))\n",
    "P1.close()\n",
    "\n",
    "rfc_z500 = xr.concat(rfc_z500,dim='inidate')"
   ]
  },
  {
   "cell_type": "markdown",
   "metadata": {},
   "source": [
    "ERA5"
   ]
  },
  {
   "cell_type": "code",
   "execution_count": 14,
   "metadata": {},
   "outputs": [],
   "source": [
    "ERA5_z500 = xr.open_dataset('../../ERA5/EU_FEB_19/ERA5_plev_500-850_2019.nc').z.loc['2019-02-25':'2019-02-27'].sel(level=500).resample(time='1D').mean()"
   ]
  },
  {
   "cell_type": "markdown",
   "metadata": {},
   "source": [
    "### Postprocessing"
   ]
  },
  {
   "cell_type": "markdown",
   "metadata": {},
   "source": [
    "#### mx2t data to get regional mean values\n",
    "For each of the operational forecast / M-climate and ERA5 data."
   ]
  },
  {
   "cell_type": "code",
   "execution_count": 15,
   "metadata": {},
   "outputs": [],
   "source": [
    "## derive regional data:\n",
    "\n",
    "lsm_xr = xr.open_dataset(lsm).lsm.fillna(0).astype(bool)\n",
    "lsm_xr = lsm_xr.assign_coords(longitude=(((lsm_xr.longitude + 180) % 360) - 180)).sortby('longitude')\n",
    "\n",
    "PD_rg_xr = pd.DataFrame(columns=['lon_1','lon_2','lat_1','lat_2'])\n",
    "\n",
    "for RG in PD_rg.keys():\n",
    "    PD_rg_xr.loc[RG] = [float(x) for x in PD_rg[RG].split(',')]"
   ]
  },
  {
   "cell_type": "code",
   "execution_count": 16,
   "metadata": {},
   "outputs": [],
   "source": [
    "ERA5_mx2t_rg = []\n",
    "op_mx2t_rg = []\n",
    "rfc_mx2t_rg = []\n",
    "\n",
    "for RG in PD_rg_xr.index:\n",
    "    \n",
    "    lsm_RG = lsm_xr.sel(longitude=slice(PD_rg_xr.loc[RG,'lon_1'],PD_rg_xr.loc[RG,'lon_2']),latitude=slice(PD_rg_xr.loc[RG,'lat_2'],PD_rg_xr.loc[RG,'lat_1']))\n",
    "    lat_weights = np.cos(np.deg2rad(lsm_RG.latitude))\n",
    "    \n",
    "    # ensembles\n",
    "    rg_event_data = op_mx2t.sel(longitude=slice(PD_rg_xr.loc[RG,'lon_1'],PD_rg_xr.loc[RG,'lon_2']),latitude=slice(PD_rg_xr.loc[RG,'lat_2'],PD_rg_xr.loc[RG,'lat_1']))\n",
    "    op_mx2t_rg += [rg_event_data.where(lsm_RG).weighted(lat_weights).mean(['latitude','longitude']).expand_dims({'RG':[RG]})]\n",
    "    \n",
    "    # M-climate\n",
    "    rg_event_data_rfc = rfc_mx2t.mx2t6.sel(longitude=slice(PD_rg_xr.loc[RG,'lon_1'],PD_rg_xr.loc[RG,'lon_2']),latitude=slice(PD_rg_xr.loc[RG,'lat_2'],PD_rg_xr.loc[RG,'lat_1']))\n",
    "    rfc_mx2t_rg += [rg_event_data_rfc.where(lsm_RG).weighted(lat_weights).mean(['latitude','longitude']).expand_dims({'RG':[RG]})]\n",
    "    \n",
    "    # ERA5\n",
    "    rg_ERA5_data = ERA5_mx2t.sel(longitude=slice(PD_rg_xr.loc[RG,'lon_1'],PD_rg_xr.loc[RG,'lon_2']),latitude=slice(PD_rg_xr.loc[RG,'lat_2'],PD_rg_xr.loc[RG,'lat_1']))\n",
    "    ERA5_mx2t_rg += [rg_ERA5_data.where(lsm_RG).weighted(lat_weights).mean(['latitude','longitude']).expand_dims({'RG':[RG]})]\n",
    "    \n",
    "op_mx2t_rg = xr.concat(op_mx2t_rg,dim='RG').compute()\n",
    "ERA5_mx2t_rg = xr.concat(ERA5_mx2t_rg,dim='RG').compute()\n",
    "rfc_mx2t_rg = xr.concat(rfc_mx2t_rg,dim='RG').compute()"
   ]
  },
  {
   "cell_type": "markdown",
   "metadata": {},
   "source": [
    "#### Z500 data to get correlations against ERA5\n",
    "For each of the operational forecast / M-climate data."
   ]
  },
  {
   "cell_type": "code",
   "execution_count": 19,
   "metadata": {},
   "outputs": [
    {
     "name": "stderr",
     "output_type": "stream",
     "text": [
      "/network/aopp/chaos/pred/leach/software/miniconda3/lib/python3.7/site-packages/dask/array/gufunc.py:431: PerformanceWarning: Increasing number of chunks by factor of 23\n",
      "  func, loop_output_dims, *arginds, concatenate=True, **kwargs\n"
     ]
    }
   ],
   "source": [
    "## get correlations over 2019-02-25 to 2019-02-27\n",
    "Z500_corr_23_27 = xs.pearson_r(op_z500.mean('time'),ERA5_z500.mean('time'),dim=['latitude','longitude'],weights = xr.broadcast(np.cos(np.deg2rad(ERA5_z500.latitude)),ERA5_z500.mean('time'))[0])\n",
    "Z500_corr_23_27 = Z500_corr_23_27.assign_coords(inidate=pd.DatetimeIndex(Z500_corr_23_27.inidate)).sortby('inidate').to_pandas()\n",
    "\n",
    "## and for reforecasts:\n",
    "Z500_corr_rfc = xs.pearson_r(rfc_z500.z,ERA5_z500.mean('time'),dim=['latitude','longitude'],weights = xr.broadcast(np.cos(np.deg2rad(ERA5_z500.latitude)),ERA5_z500.mean('time'))[0])\n",
    "Z500_corr_rfc = Z500_corr_rfc.assign_coords(inidate=pd.DatetimeIndex(Z500_corr_rfc.inidate)).sortby('inidate').to_pandas()"
   ]
  },
  {
   "cell_type": "markdown",
   "metadata": {},
   "source": [
    "## Create the figure"
   ]
  },
  {
   "cell_type": "code",
   "execution_count": 24,
   "metadata": {},
   "outputs": [
    {
     "data": {
      "text/plain": [
       "Text(1.02, 1, 'B')"
      ]
     },
     "execution_count": 24,
     "metadata": {},
     "output_type": "execute_result"
    },
    {
     "data": {
      "image/png": "[encoded data removed]",
      "text/plain": [
       "<Figure size 540x540 with 3 Axes>"
      ]
     },
     "metadata": {
      "needs_background": "light"
     },
     "output_type": "display_data"
    }
   ],
   "source": [
    "## create individual region plots:\n",
    "\n",
    "fig = plt.figure(figsize=(7.5,7.5))\n",
    "gs = fig.add_gridspec(2,1,wspace=0.15,hspace=0.05)\n",
    "\n",
    "# Panel A:\n",
    "ax = fig.add_subplot(gs[:1,:])\n",
    "\n",
    "## pick colors for figure\n",
    "ens_clrs = dict(zip(['ERA5','OP','PI','INC'],['#CBA73D','#39398E','#268071','#6F2C86']))\n",
    "\n",
    "## choose lead times to show:\n",
    "fc_lead_times = ['2019-01-'+'{:0>2}'.format(x) for x in [14,21,28,31]] + ['2019-02-'+'{:0>2}'.format(x) for x in [4,7,11,15,17,19,21,23]]\n",
    "\n",
    "## choose region to show:\n",
    "for i,RG in enumerate(['BI']):\n",
    "\n",
    "    lead_times_sorted = sorted(fc_lead_times)\n",
    "    ## compute kernel density estimates for tmax forecast / fldcor\n",
    "    kde_bw=0.25\n",
    "    kde_est_tmax = [sp.stats.gaussian_kde(op_mx2t_rg.sel(RG=RG,inidate=x).values-273.15,kde_bw) for x in lead_times_sorted]\n",
    "\n",
    "    ## compute y-axis limits based on range of all forecasts\n",
    "    ylims = [op_mx2t_rg.sel(RG=RG).min()-273.15,op_mx2t_rg.sel(RG=RG).max()-273.15]\n",
    "    ylims += np.diff(ylims)*np.array([-0.2,0.2])\n",
    "\n",
    "    line_spacing = 1.1\n",
    "    lw0=0.8\n",
    "    lw1=0.7\n",
    "    lws = [lw0+lw1*(x in ['2019-02-04','2019-02-11','2019-02-17','2019-02-23']) for x in lead_times_sorted]\n",
    "\n",
    "    choose_plot_type = 'kde'\n",
    "\n",
    "    if choose_plot_type == 'kde':\n",
    "        ## plot forecast kdes\n",
    "        [ax.plot(2*24*3600*kde_est_tmax[i].pdf(np.linspace(*ylims,500))/kde_est_tmax[i].pdf(np.linspace(*ylims,500)).max()+pd.to_datetime(x).timestamp(),np.linspace(*ylims,500),c='k',lw=lws[i]) for i,x in enumerate(lead_times_sorted)]\n",
    "        [ax.plot(pd.to_datetime(x).timestamp(),op_mx2t_rg.sel(RG=RG,inidate=x).mean('number')-273.15,'ok',ms=5,mec='none') for i,x in enumerate(lead_times_sorted)]\n",
    "\n",
    "        ## add M-climate plot\n",
    "        choose_rfc_inidate = '2019-02-11'\n",
    "        kde_mclim = sp.stats.gaussian_kde(rfc_mx2t_rg.sel(RG=RG,inidate=choose_rfc_inidate).values.flatten()-273.15,kde_bw)\n",
    "        ax.plot(2*24*3600*kde_mclim.pdf(np.linspace(*ylims,500))/kde_mclim.pdf(np.linspace(*ylims,500)).max()+pd.to_datetime('2019-01-07').timestamp(),np.linspace(*ylims,500),c='grey',lw=1.4)\n",
    "        ax.plot(pd.to_datetime('2019-01-07').timestamp(),rfc_mx2t_rg.sel(RG=RG,inidate=choose_rfc_inidate).mean('rfc_number')-273.15,'o',c='grey',ms=5,mec='none')\n",
    "\n",
    "    elif choose_plot_type == 'hist':\n",
    "        ## plot forecast kdes\n",
    "        [ax.hist(op_mx2t_rg.sel(RG=RG,inidate=x).values-273.15,bins=20,weights=[1/7]*51,histtype='step',orientation='horizontal',bottom=i*line_spacing,color='k',lw=lws[i]) for i,x in enumerate(lead_times_sorted)]\n",
    "        [ax.plot(i*line_spacing,op_mx2t_rg.sel(RG=RG,inidate=x).mean('number')-273.15,'ok',ms=5,mec='none') for i,x in enumerate(lead_times_sorted)]\n",
    "\n",
    "        ## add M-climate plot\n",
    "        ax.hist(rfc_mx2t_rg.sel(RG=RG,inidate=choose_rfc_inidate).values.flatten()-273.15,bins=20,weights=[1/(7*1980/51)]*1980,histtype='step',orientation='horizontal',bottom=-1*line_spacing,color='grey',lw=1.4)\n",
    "        ax.plot(-1*line_spacing,rfc_mx2t_rg.sel(RG=RG,inidate=choose_rfc_inidate).mean('rfc_number')-273.15,'o',c='grey',ms=5,mec='none')\n",
    "\n",
    "    ## add ERA5 line\n",
    "    ax.axhline(ERA5_mx2t_rg.sel(RG=RG)-273.15,color=ens_clrs['ERA5'],ls='--',lw=1,label='ERA5')\n",
    "\n",
    "    ## add CRPS skill values\n",
    "#     [ax.text(i*line_spacing+0.05,ylims[1]-0.5,str(round(op_crps_clim.loc[fcdate,RG],2)),va='top',ha='left',fontweight=['normal','bold'][fcdate in ['2019-02-04','2019-02-11','2019-02-17','2019-02-23']]) for i,fcdate in enumerate(lead_times_sorted)]\n",
    "\n",
    "    ## optional: histogram plot\n",
    "    # [ax[0].hist(tmax_forecasts_BI[x].flatten(),bottom=i*line_spacing,color='k',alpha=0.2,density=True,orientation='horizontal') for i,x in enumerate(lead_times_sorted)]\n",
    "\n",
    "    ax.set_yticks(np.arange(-5,30,5))\n",
    "    ax.set_ylim(*ylims)\n",
    "\n",
    "    ax.set_ylabel('maximum temperature / \\N{DEGREE SIGN}C',va='bottom',labelpad=0)\n",
    "\n",
    "    ax.set_xlim(pd.to_datetime('2019-01-06 00:00:00').timestamp(),pd.to_datetime('2019-02-28 00:00:00').timestamp())\n",
    "    ax.patch.set_alpha(0)\n",
    "    ax.set_xticks([x.timestamp() for x in Z500_corr_23_27.index])\n",
    "#     ax.set_xticklabels([])\n",
    "    \n",
    "ax.fill_between([pd.to_datetime('2019-02-25 00:00:00').timestamp(),pd.to_datetime('2019-02-28 00:00:00').timestamp()],-5,30,color='k',alpha=0.2,lw=0)\n",
    "ax.text(0.982,0.5,'heatwave period',va='center',ha='right',transform=ax.transAxes,fontsize='large',rotation=270)\n",
    "\n",
    "## plot layout:\n",
    "ax.set_xticklabels('')#[\"M-climate\"]+lead_times_sorted,rotation=-30,ha='left',rotation_mode=\"anchor\")\n",
    "# ax.set_xlabel('ENS initialisation date',labelpad=10)\n",
    "\n",
    "## plot a single dot for the legend\n",
    "ax.plot([],[],'ok',ms=5,mec='none',label='ENS mean')\n",
    "ax.plot([],[],c='k',lw=0.9,label='ENS kde')\n",
    "\n",
    "ax.axvline(pd.to_datetime('2019-01-10').timestamp(),lw=1,ls='--')\n",
    "\n",
    "## add in second axis for lead time scale\n",
    "axes1 = plt.twiny(ax)\n",
    "axes1.set_xlim(pd.to_datetime('2019-01-06 00:00:00').timestamp(),pd.to_datetime('2019-02-28 00:00:00').timestamp())\n",
    "axes1.patch.set_alpha(0)\n",
    "axes1.set_xticks([x.timestamp() for x in Z500_corr_23_27.index])\n",
    "axes1.set_xticklabels([x.days for x in pd.to_datetime('2019-02-26')-Z500_corr_23_27.index[:9]]+[item for sublist in [['',x.days] for x in pd.to_datetime('2019-02-26')-Z500_corr_23_27.index[10::2]] for item in sublist]+[''])\n",
    "\n",
    "axes1.set_xlabel('')\n",
    "\n",
    "axes1.text(0,1.15,'lead time / days',transform=ax.transAxes,va='bottom',ha='left')\n",
    "\n",
    "ax.legend(loc='lower right',bbox_to_anchor=(1,1.125),frameon=False,ncol=5,borderpad=0,labelspacing=0)\n",
    "\n",
    "ax.text(1.02,1,'A',transform=ax.transAxes,fontweight='bold',fontsize=20,va='top',ha='left')\n",
    "\n",
    "## panel B:\n",
    "\n",
    "ax=fig.add_subplot(gs[1,:])\n",
    "\n",
    "contour_data = Z500_corr_23_27.apply(lambda x:np.sort(x)[::-1],axis=1,raw=True).T\n",
    "contour_data[pd.to_datetime('2019-01-10')] = np.interp(np.arange(0,1,1/51)+0.5/51,np.arange(0,1,1/1980)+0.5/1980,Z500_corr_rfc.loc['2019-02-11'].sort_values(ascending=False).values)\n",
    "contour_data[pd.to_datetime('2019-01-01')] = np.interp(np.arange(0,1,1/51)+0.5/51,np.arange(0,1,1/1980)+0.5/1980,Z500_corr_rfc.loc['2019-02-11'].sort_values(ascending=False).values)\n",
    "contour_data = contour_data.sort_index(axis=1)\n",
    "\n",
    "cor_contour = ax.contour(contour_data.columns,contour_data.index/51,contour_data,levels=[0,0.2,0.4,0.5,0.6,0.7,0.8,0.9,0.95,0.97,0.99,0.999],extend='min',colors='k',linewidths=1.4)\n",
    "cor_contour.collections[0].set_label('500 hPa geopotential height pattern correlation / ')\n",
    "\n",
    "ax.set_xticks([pd.to_datetime('2019-01-08')]+contour_data.columns[2:].tolist())\n",
    "ax.set_xticklabels(['M-climate']+list(Z500_corr_23_27.index.strftime('%Y-%m-%d')[:9])+[item for sublist in [['',x] for x in list(Z500_corr_23_27.index.strftime('%Y-%m-%d')[10::2])] for item in sublist]+[''],rotation=-30,ha='left',rotation_mode=\"anchor\")\n",
    "\n",
    "ax.fill_between(pd.to_datetime(['2019-02-25 00:00:00','2019-02-28 00:00:00']),1/51,1,color='k',alpha=0.2,lw=0)\n",
    "ax.text(0.982,0.5+0.5/51,'heatwave period',va='center',ha='right',transform=ax.transAxes,fontsize='large',rotation=270)\n",
    "\n",
    "x0 = ax.get_xticks()[-1]\n",
    "y0 = ax.get_yticks()[-1]\n",
    "rx = 0.5*(ax.get_xticks()[-1] - ax.get_xticks()[0])\n",
    "ry = 0.7*(ax.get_yticks()[-1] - ax.get_yticks()[0])\n",
    "\n",
    "y_vals = np.array([0.98,0.9,0.7,0.5,0.45,0.4,0.34,0.33,0.32,0.3])\n",
    "x_vals = -rx*np.sqrt(1-((y0-y_vals)/ry)**2)+x0\n",
    "\n",
    "cor_labels = ax.clabel(cor_contour,fmt='%.2f',manual = [[x_vals[i],y_vals[i]] for i in np.arange(x_vals.size)])\n",
    "\n",
    "for dates in ['2019-02-04','2019-02-11','2019-02-17','2019-02-23']:\n",
    "    ax.axvline(dates,ls=':',lw=1)\n",
    "\n",
    "ax.set_xlim(pd.to_datetime('2019-01-06 00:00:00'),pd.to_datetime('2019-02-28 00:00:00'))\n",
    "ax.axvline(pd.to_datetime('2019-01-10'),lw=1,ls='--')\n",
    "    \n",
    "ax.set_xlabel('initialisation date')\n",
    "ax.set_ylabel('fraction of ensemble greater')\n",
    "\n",
    "ax.text(1.02,1,'B',transform=ax.transAxes,fontweight='bold',fontsize=20,va='top',ha='left')\n",
    "\n",
    "# [fig.savefig('FIGS/Fig2.'+x,dpi=600,bbox_inches='tight') for x in ['png','pdf']]"
   ]
  }
 ],
 "metadata": {
  "kernelspec": {
   "display_name": "Python 3",
   "language": "python",
   "name": "python3"
  },
  "language_info": {
   "codemirror_mode": {
    "name": "ipython",
    "version": 3
   },
   "file_extension": ".py",
   "mimetype": "text/x-python",
   "name": "python",
   "nbconvert_exporter": "python",
   "pygments_lexer": "ipython3",
   "version": "3.7.10"
  }
 },
 "nbformat": 4,
 "nbformat_minor": 4
}
